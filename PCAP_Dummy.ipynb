{
  "nbformat": 4,
  "nbformat_minor": 0,
  "metadata": {
    "colab": {
      "provenance": [],
      "authorship_tag": "ABX9TyNTkCSaMBT0WfV7rJCs8dz0",
      "include_colab_link": true
    },
    "kernelspec": {
      "name": "python3",
      "display_name": "Python 3"
    },
    "language_info": {
      "name": "python"
    }
  },
  "cells": [
    {
      "cell_type": "markdown",
      "metadata": {
        "id": "view-in-github",
        "colab_type": "text"
      },
      "source": [
        "<a href=\"https://colab.research.google.com/github/tunglinwood/GitNotebooks/blob/main/PCAP_Dummy.ipynb\" target=\"_parent\"><img src=\"https://colab.research.google.com/assets/colab-badge.svg\" alt=\"Open In Colab\"/></a>"
      ]
    },
    {
      "cell_type": "markdown",
      "source": [
        "1. What wiill be the value of the `i` variable when the `while` loop finishes its execution?"
      ],
      "metadata": {
        "id": "LO0vOn55NvXh"
      }
    },
    {
      "cell_type": "code",
      "source": [
        "i = 0\n",
        "while i != 0:\n",
        "  i = i - 1\n",
        "else:\n",
        "  i = i + 1\n",
        "print(i)"
      ],
      "metadata": {
        "colab": {
          "base_uri": "https://localhost:8080/"
        },
        "id": "e-X9fzuNN-fv",
        "outputId": "6ab3d17d-0471-4135-f8a6-7a90b51c0e63"
      },
      "execution_count": null,
      "outputs": [
        {
          "output_type": "stream",
          "name": "stdout",
          "text": [
            "1\n"
          ]
        }
      ]
    },
    {
      "cell_type": "markdown",
      "source": [
        "2. `And` operator able to perform bitwise shifts is coded as (Choose two.)\n",
        "* A. --\n",
        "* B. ++\n",
        "* C. >> (V)\n",
        "* D. << (V)"
      ],
      "metadata": {
        "id": "07wyOQIHOwPT"
      }
    },
    {
      "cell_type": "markdown",
      "source": [
        "3. What will the value of the `i` variable be when the following loop finished its execution?"
      ],
      "metadata": {
        "id": "IFdLRBs2PYe6"
      }
    },
    {
      "cell_type": "code",
      "source": [
        "for i in range(10):\n",
        "  pass\n",
        "print(i)"
      ],
      "metadata": {
        "colab": {
          "base_uri": "https://localhost:8080/"
        },
        "id": "rlBo-rHPPj9W",
        "outputId": "e2f16228-b400-4de8-9989-5cde696a9747"
      },
      "execution_count": null,
      "outputs": [
        {
          "output_type": "stream",
          "name": "stdout",
          "text": [
            "9\n"
          ]
        }
      ]
    },
    {
      "cell_type": "markdown",
      "source": [
        "4. The following expression `1+-2` is\n",
        "* A. equal to 1\n",
        "* B. invalid\n",
        "* C. equal to 2\n",
        "* D. equal to -1 (V)"
      ],
      "metadata": {
        "id": "-gGistR2Ps8_"
      }
    },
    {
      "cell_type": "code",
      "source": [
        "print (1+-2)"
      ],
      "metadata": {
        "colab": {
          "base_uri": "https://localhost:8080/"
        },
        "id": "7_R-HwruP5Vo",
        "outputId": "e1e8109e-ced0-4073-ab97-1aa618d97d25"
      },
      "execution_count": null,
      "outputs": [
        {
          "output_type": "stream",
          "name": "stdout",
          "text": [
            "-1\n"
          ]
        }
      ]
    },
    {
      "cell_type": "markdown",
      "source": [
        "5. A compilerr is a program designed to (Choose two.)\n",
        "* A. rearrange the source code to make it clearer\n",
        "* B. check the source code in order to see of it's correct (V)\n",
        "* C. execute the source code\n",
        "* D. translate the source code into machine code (V)"
      ],
      "metadata": {
        "id": "Ljlbbyg7QQBh"
      }
    },
    {
      "cell_type": "markdown",
      "source": [
        "6. What is the output of the following piece of code?"
      ],
      "metadata": {
        "id": "ucyUJZclRQM2"
      }
    },
    {
      "cell_type": "code",
      "source": [
        "a = 'ant'\n",
        "b = 'bat'\n",
        "c = 'camel'\n",
        "print(a, b, c, sep= '\"')"
      ],
      "metadata": {
        "colab": {
          "base_uri": "https://localhost:8080/"
        },
        "id": "HVY1DzGCQHRd",
        "outputId": "20283eba-57b1-4928-abe4-5f0a7aaa3be4"
      },
      "execution_count": null,
      "outputs": [
        {
          "output_type": "stream",
          "name": "stdout",
          "text": [
            "ant\"bat\"camel\n"
          ]
        }
      ]
    },
    {
      "cell_type": "markdown",
      "source": [
        "7. What is the expected output of the following snippet?"
      ],
      "metadata": {
        "id": "3QLGLb1aRtqq"
      }
    },
    {
      "cell_type": "code",
      "source": [
        "i = 5\n",
        "while i > 0:\n",
        "  i = i // 2\n",
        "  if i % 2 = 0:\n",
        "    break\n",
        "else:\n",
        "  i += 1\n",
        "  print(i)\n",
        "\n",
        "# answer is the code is erroneous\n",
        "# should be if i % 2 == 0:"
      ],
      "metadata": {
        "colab": {
          "base_uri": "https://localhost:8080/",
          "height": 163
        },
        "id": "GdeTgKrERkiI",
        "outputId": "902c613e-381a-4970-b311-80d26d3079c5"
      },
      "execution_count": null,
      "outputs": [
        {
          "output_type": "error",
          "ename": "SyntaxError",
          "evalue": "cannot assign to expression here. Maybe you meant '==' instead of '='? (<ipython-input-8-89a86df7792a>, line 4)",
          "traceback": [
            "\u001b[0;36m  File \u001b[0;32m\"<ipython-input-8-89a86df7792a>\"\u001b[0;36m, line \u001b[0;32m4\u001b[0m\n\u001b[0;31m    if i % 2 = 0:\u001b[0m\n\u001b[0m       ^\u001b[0m\n\u001b[0;31mSyntaxError\u001b[0m\u001b[0;31m:\u001b[0m cannot assign to expression here. Maybe you meant '==' instead of '='?\n"
          ]
        }
      ]
    },
    {
      "cell_type": "markdown",
      "source": [
        "8. How many lines does the following snippet output?"
      ],
      "metadata": {
        "id": "kCujsOkhSVNu"
      }
    },
    {
      "cell_type": "code",
      "source": [
        "for i in range(1,3):\n",
        "  print(\"*\", end = \"\")\n",
        "else:\n",
        "  print(\"*\")\n",
        "\n",
        "#The answer is one line. Because we have end argument to conjunct each * with nothing."
      ],
      "metadata": {
        "colab": {
          "base_uri": "https://localhost:8080/"
        },
        "id": "SxS-9CELR_04",
        "outputId": "b3b91c10-3061-4abf-c26a-6d6a91c7f1c6"
      },
      "execution_count": null,
      "outputs": [
        {
          "output_type": "stream",
          "name": "stdout",
          "text": [
            "***\n"
          ]
        }
      ]
    },
    {
      "cell_type": "markdown",
      "source": [
        "9. Which of the following literals reflect the value given as `34.23`? (Choose two.)"
      ],
      "metadata": {
        "id": "BEr_KFrPTGy_"
      }
    },
    {
      "cell_type": "code",
      "source": [
        "print(3423e2) #A\n",
        "print(3423e-2) #B\n",
        "print(3423e-2) #C\n",
        "print(3423e2) #D"
      ],
      "metadata": {
        "colab": {
          "base_uri": "https://localhost:8080/"
        },
        "id": "hB1sP2u-SipJ",
        "outputId": "2eb7f929-09f8-427f-c9b1-16b38e8bcfa0"
      },
      "execution_count": null,
      "outputs": [
        {
          "output_type": "stream",
          "name": "stdout",
          "text": [
            "342300.0\n",
            "34.23\n",
            "34.23\n",
            "342300.0\n"
          ]
        }
      ]
    },
    {
      "cell_type": "markdown",
      "source": [
        "10. What is the expected output of the following snippet?"
      ],
      "metadata": {
        "id": "AmPR2JP9Ts7L"
      }
    },
    {
      "cell_type": "code",
      "source": [
        "a = 2\n",
        "if a > 0:\n",
        "  a += 1\n",
        "  else:\n",
        "    a -=1\n",
        "print(a)\n",
        "#The indentation of else: should be aligned to where if starts"
      ],
      "metadata": {
        "colab": {
          "base_uri": "https://localhost:8080/",
          "height": 145
        },
        "id": "z1Nm94RATnkG",
        "outputId": "045af7a2-b154-4418-f3dc-02d65f098a4a"
      },
      "execution_count": null,
      "outputs": [
        {
          "output_type": "error",
          "ename": "SyntaxError",
          "evalue": "invalid syntax (<ipython-input-13-a2d14edff1fc>, line 4)",
          "traceback": [
            "\u001b[0;36m  File \u001b[0;32m\"<ipython-input-13-a2d14edff1fc>\"\u001b[0;36m, line \u001b[0;32m4\u001b[0m\n\u001b[0;31m    else:\u001b[0m\n\u001b[0m    ^\u001b[0m\n\u001b[0;31mSyntaxError\u001b[0m\u001b[0;31m:\u001b[0m invalid syntax\n"
          ]
        }
      ]
    },
    {
      "cell_type": "markdown",
      "source": [
        "11. Assuming that the following snippet has been successfully executed, which of the equations are `True`? (Choose two.)\n",
        "* A. `len(a) == len(b)` (V)\n",
        "* B. `b[0] + 1 == a[0]`\n",
        "* C. `a[0] == b[0]` (V)\n",
        "* D. `a[0] + 1 == b[0]`"
      ],
      "metadata": {
        "id": "MGrYmTxWUFeg"
      }
    },
    {
      "cell_type": "code",
      "source": [
        "a = [1]\n",
        "b = a\n",
        "a[0] = 0\n",
        "\n",
        "print(a)\n",
        "print(b)\n",
        "#Assigning a to b is just makes b point to where\n",
        "#store data, which is [0] as well\n",
        "\n",
        "print(len(a) == len(b))\n",
        "print(b[0] + 1 == a[0])\n",
        "print(a[0] == b[0])\n",
        "print(a[0] + 1 == b[0])"
      ],
      "metadata": {
        "colab": {
          "base_uri": "https://localhost:8080/"
        },
        "id": "5LM-zrwbT6E5",
        "outputId": "92e09b67-3b29-46ab-94a8-5a659724680a"
      },
      "execution_count": null,
      "outputs": [
        {
          "output_type": "stream",
          "name": "stdout",
          "text": [
            "[0]\n",
            "[0]\n",
            "True\n",
            "False\n",
            "True\n",
            "False\n"
          ]
        }
      ]
    },
    {
      "cell_type": "markdown",
      "source": [
        "12. Assuming that the following snippet hass been successfully executed, which of the equations are `False`? (Choose two.)\n",
        "* A. `len(a) == len(b)`\n",
        "* B. `a[0] - 1 == b[0]`\n",
        "* C. `a[0] == b[0]` (V)\n",
        "* D. `b[0] - 1 == a[0]` (V)"
      ],
      "metadata": {
        "id": "1b99_8cCVLRn"
      }
    },
    {
      "cell_type": "code",
      "source": [
        "a = [0]\n",
        "b = a[:]\n",
        "a[0] = 1\n",
        "\n",
        "print(a)\n",
        "print(b)\n",
        "\n",
        "print(len(a) == len(b))\n",
        "print(a[0] - 1 == b[0])\n",
        "print(a[0] == b[0])\n",
        "print(b[0] - 1 == a[0])"
      ],
      "metadata": {
        "colab": {
          "base_uri": "https://localhost:8080/"
        },
        "id": "HI6J2h4qU150",
        "outputId": "9c9919ad-92ac-463b-c7ad-6870d8ac62ac"
      },
      "execution_count": null,
      "outputs": [
        {
          "output_type": "stream",
          "name": "stdout",
          "text": [
            "[1]\n",
            "[0]\n",
            "True\n",
            "True\n",
            "False\n",
            "False\n"
          ]
        }
      ]
    },
    {
      "cell_type": "markdown",
      "source": [
        "13. Which of the following statements are true? (Choose two.)\n",
        "* A. Python strings are actually lists\n",
        "* B. Python strings can be concatenated (V)\n",
        "* C. Python strings can be sliced like lists (V)\n",
        "* D. Python strings are mutable"
      ],
      "metadata": {
        "id": "d9WqNLTIXAVn"
      }
    },
    {
      "cell_type": "markdown",
      "source": [
        "14. Which of the following sentences are true? (Choose two.)\n",
        "* A. Lists may not be stored inside tuples\n",
        "* B. Tuples may be stored inside lists (V)\n",
        "* C. Tuples may not be stored inside tuples\n",
        "* D. Lists may be stored inside lists (V)"
      ],
      "metadata": {
        "id": "lpwuNRaxXq-n"
      }
    },
    {
      "cell_type": "markdown",
      "source": [
        "15. Assuming that `string` is six or more letters long, the following slice `string[1:-2]` is shorter than the original `string` by:"
      ],
      "metadata": {
        "id": "kkC4fm10YN9p"
      }
    },
    {
      "cell_type": "code",
      "source": [
        "string = 'gaming'\n",
        "print(string[1:-2])\n",
        "\n",
        "#Answer will by 3 characters"
      ],
      "metadata": {
        "colab": {
          "base_uri": "https://localhost:8080/"
        },
        "id": "g1rtNe7TYzP2",
        "outputId": "6b29463a-3c37-46ff-a61b-008d93547458"
      },
      "execution_count": null,
      "outputs": [
        {
          "output_type": "stream",
          "name": "stdout",
          "text": [
            "ami\n"
          ]
        }
      ]
    },
    {
      "cell_type": "markdown",
      "source": [
        "16. What is the expected output of the following snippet?"
      ],
      "metadata": {
        "id": "nDZmzbjJZOtg"
      }
    },
    {
      "cell_type": "code",
      "source": [
        "lst = [1, 2, 3, 4]\n",
        "lst = lst[-3:-2]\n",
        "lst = lst[-1]\n",
        "print(lst)"
      ],
      "metadata": {
        "colab": {
          "base_uri": "https://localhost:8080/"
        },
        "id": "RISyOQi-W5mw",
        "outputId": "faea878d-d39d-4af8-92d6-af519304527c"
      },
      "execution_count": null,
      "outputs": [
        {
          "output_type": "stream",
          "name": "stdout",
          "text": [
            "2\n"
          ]
        }
      ]
    },
    {
      "cell_type": "markdown",
      "source": [
        "17. What is the expected output of the following snippet?\\"
      ],
      "metadata": {
        "id": "NoLcwMjrZtZb"
      }
    },
    {
      "cell_type": "code",
      "source": [
        "s = 'abc'\n",
        "for i in len(s):\n",
        "  s[i] = s[i].upper()\n",
        "  print(s)\n",
        "\n",
        "#len(s) is equal to 3, so there is no meaning for looping an integer"
      ],
      "metadata": {
        "colab": {
          "base_uri": "https://localhost:8080/",
          "height": 271
        },
        "id": "uRHSZlFPZgxy",
        "outputId": "227b114c-d2c1-4c46-d521-489ab1c095df"
      },
      "execution_count": null,
      "outputs": [
        {
          "output_type": "error",
          "ename": "TypeError",
          "evalue": "'int' object is not iterable",
          "traceback": [
            "\u001b[0;31m---------------------------------------------------------------------------\u001b[0m",
            "\u001b[0;31mTypeError\u001b[0m                                 Traceback (most recent call last)",
            "\u001b[0;32m<ipython-input-21-df2c5efab851>\u001b[0m in \u001b[0;36m<cell line: 2>\u001b[0;34m()\u001b[0m\n\u001b[1;32m      1\u001b[0m \u001b[0ms\u001b[0m \u001b[0;34m=\u001b[0m \u001b[0;34m'abc'\u001b[0m\u001b[0;34m\u001b[0m\u001b[0;34m\u001b[0m\u001b[0m\n\u001b[0;32m----> 2\u001b[0;31m \u001b[0;32mfor\u001b[0m \u001b[0mi\u001b[0m \u001b[0;32min\u001b[0m \u001b[0mlen\u001b[0m\u001b[0;34m(\u001b[0m\u001b[0ms\u001b[0m\u001b[0;34m)\u001b[0m\u001b[0;34m:\u001b[0m\u001b[0;34m\u001b[0m\u001b[0;34m\u001b[0m\u001b[0m\n\u001b[0m\u001b[1;32m      3\u001b[0m   \u001b[0ms\u001b[0m\u001b[0;34m[\u001b[0m\u001b[0mi\u001b[0m\u001b[0;34m]\u001b[0m \u001b[0;34m=\u001b[0m \u001b[0ms\u001b[0m\u001b[0;34m[\u001b[0m\u001b[0mi\u001b[0m\u001b[0;34m]\u001b[0m\u001b[0;34m.\u001b[0m\u001b[0mupper\u001b[0m\u001b[0;34m(\u001b[0m\u001b[0;34m)\u001b[0m\u001b[0;34m\u001b[0m\u001b[0;34m\u001b[0m\u001b[0m\n\u001b[1;32m      4\u001b[0m   \u001b[0mprint\u001b[0m\u001b[0;34m(\u001b[0m\u001b[0ms\u001b[0m\u001b[0;34m)\u001b[0m\u001b[0;34m\u001b[0m\u001b[0;34m\u001b[0m\u001b[0m\n",
            "\u001b[0;31mTypeError\u001b[0m: 'int' object is not iterable"
          ]
        }
      ]
    },
    {
      "cell_type": "markdown",
      "source": [
        "18. How many elements will the `list2` list contain after execution of the following snippet?"
      ],
      "metadata": {
        "id": "w1l3Pl5faQgj"
      }
    },
    {
      "cell_type": "code",
      "source": [
        "list1 = [False for i in range(1, 10)]\n",
        "list2 = list1[-1:1:-1]\n",
        "print(list2)\n",
        "#Answer is 7"
      ],
      "metadata": {
        "colab": {
          "base_uri": "https://localhost:8080/"
        },
        "id": "YqfQ4TY9Z5MN",
        "outputId": "5b04cb6b-d6e8-4a88-b51d-bf9ef825525d"
      },
      "execution_count": null,
      "outputs": [
        {
          "output_type": "stream",
          "name": "stdout",
          "text": [
            "[False, False, False, False, False, False, False]\n"
          ]
        }
      ]
    },
    {
      "cell_type": "markdown",
      "source": [
        "19. What would you use instead of `XXX` if you want to check weather a certain 'key' exists in a dictionary called `dict`? (Choose two.)\n",
        "\n",
        "* A. `key in dict` (V)\n",
        "* B. `dict['key'] != None`\n",
        "* C. `dict.exist('key')`\n",
        "* D. `'key' in dict.keys()` (V)"
      ],
      "metadata": {
        "id": "Ox2RKW9ubXTa"
      }
    },
    {
      "cell_type": "code",
      "source": [
        "if XXX:\n",
        "  print(\"Key exist\")"
      ],
      "metadata": {
        "id": "hCrvJQ3Daka-"
      },
      "execution_count": null,
      "outputs": []
    },
    {
      "cell_type": "markdown",
      "source": [
        "20. You need data which can act as a single telephone dictionary. You can obtain it with the following clauses (Choose two.) (assume that no other items have been created before)\n",
        "\n",
        "* A. `dir = {'Mom': 123, 'Dad': 456}` (V)\n",
        "* B. `dir = {'Mom': '123', 'Dad': '456'}` (V)\n",
        "* C. `dir = {Mom: 123, Dad: 456}`\n",
        "* D. `dir = {Mom: '123', Dad: '456'}`"
      ],
      "metadata": {
        "id": "x4o-6yHCcj58"
      }
    },
    {
      "cell_type": "markdown",
      "source": [
        "21. Can a module run like refular code?\n",
        "\n",
        "* A. yes,and it can differentiate its behavior and the regular launch and import\n",
        "* B. it depends on the Python version\n",
        "* C. yes, but it cannot differentiate its behavior between the regular launch and import\n",
        "* D. no, it is not possible; a module can be impoted not run"
      ],
      "metadata": {
        "id": "hNRe1MIKck6x"
      }
    },
    {
      "cell_type": "markdown",
      "source": [
        "22. Select the valid `fun()` invocation: (Choose two.)\n",
        "* A. `fun(b = 1)`\n",
        "* B. `fun(a = 0)` (V)\n",
        "* C. `fun(b = 1, 0)`\n",
        "* D. `fun(1)` (V)"
      ],
      "metadata": {
        "id": "rEb__BFadXpq"
      }
    },
    {
      "cell_type": "code",
      "source": [
        "def fun(a, b = 0):\n",
        "  return a * b\n",
        "\n",
        "fun(b = 1)\n",
        "#fun(a = 0)\n",
        "#fun(b = 1, 0)\n",
        "#fun(1)"
      ],
      "metadata": {
        "colab": {
          "base_uri": "https://localhost:8080/",
          "height": 289
        },
        "id": "LAsTp5MhdkNt",
        "outputId": "36531c60-917c-47c3-f9ef-78d3d8e4ebce"
      },
      "execution_count": null,
      "outputs": [
        {
          "output_type": "error",
          "ename": "TypeError",
          "evalue": "fun() missing 1 required positional argument: 'a'",
          "traceback": [
            "\u001b[0;31m---------------------------------------------------------------------------\u001b[0m",
            "\u001b[0;31mTypeError\u001b[0m                                 Traceback (most recent call last)",
            "\u001b[0;32m<ipython-input-3-420dbe013947>\u001b[0m in \u001b[0;36m<cell line: 4>\u001b[0;34m()\u001b[0m\n\u001b[1;32m      2\u001b[0m   \u001b[0;32mreturn\u001b[0m \u001b[0ma\u001b[0m \u001b[0;34m*\u001b[0m \u001b[0mb\u001b[0m\u001b[0;34m\u001b[0m\u001b[0;34m\u001b[0m\u001b[0m\n\u001b[1;32m      3\u001b[0m \u001b[0;34m\u001b[0m\u001b[0m\n\u001b[0;32m----> 4\u001b[0;31m \u001b[0mfun\u001b[0m\u001b[0;34m(\u001b[0m\u001b[0mb\u001b[0m \u001b[0;34m=\u001b[0m \u001b[0;36m1\u001b[0m\u001b[0;34m)\u001b[0m\u001b[0;34m\u001b[0m\u001b[0;34m\u001b[0m\u001b[0m\n\u001b[0m\u001b[1;32m      5\u001b[0m \u001b[0;31m#fun(a = 0)\u001b[0m\u001b[0;34m\u001b[0m\u001b[0;34m\u001b[0m\u001b[0m\n\u001b[1;32m      6\u001b[0m \u001b[0;31m#fun(b = 1, 0)\u001b[0m\u001b[0;34m\u001b[0m\u001b[0;34m\u001b[0m\u001b[0m\n",
            "\u001b[0;31mTypeError\u001b[0m: fun() missing 1 required positional argument: 'a'"
          ]
        }
      ]
    },
    {
      "cell_type": "markdown",
      "source": [
        "23. A file name like this one below says that: (Choose three.)\n",
        "`services.cpython-36.pyc`\n",
        "* A. the interpreter used to generate the file is version 3.6 (V)\n",
        "* B. it has been produced by CPython (V)\n",
        "* C. it is the 36 version of the file\n",
        "* D. the file comes from the services.py source file (V)"
      ],
      "metadata": {
        "id": "zMr1V1ERtQQK"
      }
    },
    {
      "cell_type": "markdown",
      "source": [
        "24. What is the expected behavior of the following snippet?"
      ],
      "metadata": {
        "id": "UL--_ex6uD7x"
      }
    },
    {
      "cell_type": "code",
      "source": [
        "def a(l, I):\n",
        "  return l[I]\n",
        "print(a, (0, [1))\n",
        "\n",
        "#It will cause a runtime error"
      ],
      "metadata": {
        "colab": {
          "base_uri": "https://localhost:8080/",
          "height": 163
        },
        "id": "nwb0ToDcuAtZ",
        "outputId": "beabf71e-0525-47f7-cf1a-7e459e0ea5e7"
      },
      "execution_count": null,
      "outputs": [
        {
          "output_type": "error",
          "ename": "SyntaxError",
          "evalue": "closing parenthesis ')' does not match opening parenthesis '[' (<ipython-input-1-00755447497f>, line 3)",
          "traceback": [
            "\u001b[0;36m  File \u001b[0;32m\"<ipython-input-1-00755447497f>\"\u001b[0;36m, line \u001b[0;32m3\u001b[0m\n\u001b[0;31m    print(a, (0, [1))\u001b[0m\n\u001b[0m                   ^\u001b[0m\n\u001b[0;31mSyntaxError\u001b[0m\u001b[0;31m:\u001b[0m closing parenthesis ')' does not match opening parenthesis '['\n"
          ]
        }
      ]
    },
    {
      "cell_type": "markdown",
      "source": [
        "25. What can you do if you don't like a long package path like this one?\n",
        "`import alpha.beta.gamma.delata.epsilon.zeta`\n",
        "\n",
        "* A. you can make an alias of the name using the alias keyword\n",
        "* B. nothing, you need to come to thems with it\n",
        "* C. you can shorten it to alpha.zeta and Pthon will find the proper connection\n",
        "* D. you can make an alias for the name using the `as` keyword (V)"
      ],
      "metadata": {
        "id": "Z749fjoJur4W"
      }
    },
    {
      "cell_type": "markdown",
      "source": [
        "26. What is the expected output of the following code?"
      ],
      "metadata": {
        "id": "mmRsQ5fl0Uzs"
      }
    },
    {
      "cell_type": "code",
      "source": [
        "str = 'abcdef'\n",
        "def fun(s):\n",
        "  del s[2]\n",
        "  return s\n",
        "print(fun(str))\n",
        "#The program will cause a runtime exception since\n",
        "#string is immutable"
      ],
      "metadata": {
        "colab": {
          "base_uri": "https://localhost:8080/",
          "height": 415
        },
        "id": "14c-Y7mduc1h",
        "outputId": "895d4b52-3035-41a9-d958-778f07920496"
      },
      "execution_count": null,
      "outputs": [
        {
          "output_type": "error",
          "ename": "TypeError",
          "evalue": "'str' object doesn't support item deletion",
          "traceback": [
            "\u001b[0;31m---------------------------------------------------------------------------\u001b[0m",
            "\u001b[0;31mTypeError\u001b[0m                                 Traceback (most recent call last)",
            "\u001b[0;32m<ipython-input-2-c7d0adf0c76c>\u001b[0m in \u001b[0;36m<cell line: 5>\u001b[0;34m()\u001b[0m\n\u001b[1;32m      3\u001b[0m   \u001b[0;32mdel\u001b[0m \u001b[0ms\u001b[0m\u001b[0;34m[\u001b[0m\u001b[0;36m2\u001b[0m\u001b[0;34m]\u001b[0m\u001b[0;34m\u001b[0m\u001b[0;34m\u001b[0m\u001b[0m\n\u001b[1;32m      4\u001b[0m   \u001b[0;32mreturn\u001b[0m \u001b[0ms\u001b[0m\u001b[0;34m\u001b[0m\u001b[0;34m\u001b[0m\u001b[0m\n\u001b[0;32m----> 5\u001b[0;31m \u001b[0mprint\u001b[0m\u001b[0;34m(\u001b[0m\u001b[0mfun\u001b[0m\u001b[0;34m(\u001b[0m\u001b[0mstr\u001b[0m\u001b[0;34m)\u001b[0m\u001b[0;34m)\u001b[0m\u001b[0;34m\u001b[0m\u001b[0;34m\u001b[0m\u001b[0m\n\u001b[0m\u001b[1;32m      6\u001b[0m \u001b[0;31m#The program will cause a runtime exception since\u001b[0m\u001b[0;34m\u001b[0m\u001b[0;34m\u001b[0m\u001b[0m\n\u001b[1;32m      7\u001b[0m \u001b[0;31m#string is immutable\u001b[0m\u001b[0;34m\u001b[0m\u001b[0;34m\u001b[0m\u001b[0m\n",
            "\u001b[0;32m<ipython-input-2-c7d0adf0c76c>\u001b[0m in \u001b[0;36mfun\u001b[0;34m(s)\u001b[0m\n\u001b[1;32m      1\u001b[0m \u001b[0mstr\u001b[0m \u001b[0;34m=\u001b[0m \u001b[0;34m'abcdef'\u001b[0m\u001b[0;34m\u001b[0m\u001b[0;34m\u001b[0m\u001b[0m\n\u001b[1;32m      2\u001b[0m \u001b[0;32mdef\u001b[0m \u001b[0mfun\u001b[0m\u001b[0;34m(\u001b[0m\u001b[0ms\u001b[0m\u001b[0;34m)\u001b[0m\u001b[0;34m:\u001b[0m\u001b[0;34m\u001b[0m\u001b[0;34m\u001b[0m\u001b[0m\n\u001b[0;32m----> 3\u001b[0;31m   \u001b[0;32mdel\u001b[0m \u001b[0ms\u001b[0m\u001b[0;34m[\u001b[0m\u001b[0;36m2\u001b[0m\u001b[0;34m]\u001b[0m\u001b[0;34m\u001b[0m\u001b[0;34m\u001b[0m\u001b[0m\n\u001b[0m\u001b[1;32m      4\u001b[0m   \u001b[0;32mreturn\u001b[0m \u001b[0ms\u001b[0m\u001b[0;34m\u001b[0m\u001b[0;34m\u001b[0m\u001b[0m\n\u001b[1;32m      5\u001b[0m \u001b[0mprint\u001b[0m\u001b[0;34m(\u001b[0m\u001b[0mfun\u001b[0m\u001b[0;34m(\u001b[0m\u001b[0mstr\u001b[0m\u001b[0;34m)\u001b[0m\u001b[0;34m)\u001b[0m\u001b[0;34m\u001b[0m\u001b[0;34m\u001b[0m\u001b[0m\n",
            "\u001b[0;31mTypeError\u001b[0m: 'str' object doesn't support item deletion"
          ]
        }
      ]
    },
    {
      "cell_type": "markdown",
      "source": [
        "27. What is the expected output of the following code?"
      ],
      "metadata": {
        "id": "zoUp7cDs1Eb1"
      }
    },
    {
      "cell_type": "code",
      "source": [
        "def f(n):\n",
        "  if n == 1:\n",
        "    return '1'\n",
        "  return str(n) + f(n-1)\n",
        "print(f(2))\n",
        "#out will be string type data concatate '2' and 1' which is '12'"
      ],
      "metadata": {
        "id": "LYCtkUMH003Z"
      },
      "execution_count": null,
      "outputs": []
    },
    {
      "cell_type": "markdown",
      "source": [
        "28. What is the expected behavior of the following snippet?"
      ],
      "metadata": {
        "id": "66DeUcOk2gHE"
      }
    },
    {
      "cell_type": "code",
      "source": [
        "def x():\n",
        "  return 2\n",
        "\n",
        "x = 1 + x()\n",
        "print(x)"
      ],
      "metadata": {
        "colab": {
          "base_uri": "https://localhost:8080/"
        },
        "id": "XJ4OIrKU2FGI",
        "outputId": "13a2546d-6b34-4921-e6a3-0ef4755e067d"
      },
      "execution_count": null,
      "outputs": [
        {
          "output_type": "stream",
          "name": "stdout",
          "text": [
            "3\n"
          ]
        }
      ]
    },
    {
      "cell_type": "markdown",
      "source": [
        "29. What is the expected behavior of the following code?"
      ],
      "metadata": {
        "id": "UTFHNGMj3B8o"
      }
    },
    {
      "cell_type": "code",
      "source": [
        "def f(n):\n",
        "  for i in range(a, n+1):\n",
        "    yield I\n",
        "print(f(2))\n",
        "#print<generator object f at (some hex digits)>"
      ],
      "metadata": {
        "colab": {
          "base_uri": "https://localhost:8080/"
        },
        "id": "fOV_Q8bn26TV",
        "outputId": "5a8f7b30-5c64-4fc7-e1ab-0d6e847ceff0"
      },
      "execution_count": null,
      "outputs": [
        {
          "output_type": "stream",
          "name": "stdout",
          "text": [
            "<generator object f at 0x7fee1da022d0>\n"
          ]
        }
      ]
    },
    {
      "cell_type": "markdown",
      "source": [
        "30. If you need a function that does nothing, what you use instead of `XXX`? (Choose two.)\n",
        "* A. `pass` (V)\n",
        "* B. `return` (V)\n",
        "* C. `eixt`\n",
        "* D. `None`"
      ],
      "metadata": {
        "id": "VTCLoITW3uWT"
      }
    },
    {
      "cell_type": "code",
      "source": [
        "def idler():\n",
        "  XXX"
      ],
      "metadata": {
        "id": "pboNrJ943Z27"
      },
      "execution_count": null,
      "outputs": []
    },
    {
      "cell_type": "markdown",
      "source": [
        "31. Is it possible to safely check if a class/object has a certain attribute?\n",
        "* A. yes, by the `hasattr` attribute\n",
        "* B. yes, by using the `hasattr()` method (V)\n",
        "* C. yes, by using the `hassattr()` function\n",
        "* D. no, it is not possible"
      ],
      "metadata": {
        "id": "k_f07oB14dDH"
      }
    },
    {
      "cell_type": "markdown",
      "source": [
        "32. The first parameter of each method:\n",
        "* A. holds a reference to the currently processed object (V)\n",
        "* B. is always set to None\n",
        "* C. is set to a unique random value\n",
        "* D. is set by the first argument's value"
      ],
      "metadata": {
        "id": "A4Op7aYgTKeb"
      }
    },
    {
      "cell_type": "markdown",
      "source": [
        "33. The simplest possible class definition definition inPython can be expressed as:\n",
        "* A. `class X:`\n",
        "* B. `class X: pass` (V)\n",
        "* C. `class C: return`\n",
        "* D. `class X: {}`"
      ],
      "metadata": {
        "id": "vkSQG1AgTqFM"
      }
    },
    {
      "cell_type": "markdown",
      "source": [
        "34. If you want to access an exception object's components and store them in an object called e, you have to use the following form of exception statement:\n",
        "* A. `except Exception(e):`\n",
        "* B. `except e = Exception:`\n",
        "* C. `except Exception as e:` (V)\n",
        "* D. such an action is not possible in Python"
      ],
      "metadata": {
        "id": "37uclW55UBeM"
      }
    },
    {
      "cell_type": "markdown",
      "source": [
        "35. A variable stored separately in every object is called:\n",
        "* A. there are no such variables, all variables are shared among objects\n",
        "* B. a class variable\n",
        "* C. an object variable\n",
        "* D. an instance variable (V)"
      ],
      "metadata": {
        "id": "KXghQJgdUzQH"
      }
    },
    {
      "cell_type": "markdown",
      "source": [
        "36. There is a stream named `s` open for writting. What option will you select to write a line to the stream?\n",
        "* A. `s.write(\"Hello\")` (V)\n",
        "* B. `write(s.\"Hello\")`\n",
        "* C. `s.writeln(\"Hello\")`\n",
        "* D. `s.writeline(\"Hello\")`\n"
      ],
      "metadata": {
        "id": "fE5plUwmVlQW"
      }
    },
    {
      "cell_type": "markdown",
      "source": [
        "37. You are going to read just one character from a stream called `s`. Which statement would you use?\n",
        "* A. `ch = read(s, 1)`\n",
        "* B. `ch = s.input(1)`\n",
        "* C. `ch = input(s, 1)`\n",
        "* D. `ch = s.read(1)` (V)"
      ],
      "metadata": {
        "id": "PhL6dJTZWJwY"
      }
    },
    {
      "cell_type": "markdown",
      "source": [
        "38. What can you deduce from the following statement? (Choose two.)\n",
        "\n",
        "`str = open('file.txt', 'rt')`\n",
        "* A. `str` is a string read in from the file named `file.txt` (V)\n",
        "* B. a newline character translation will be performed during the reads\n",
        "* C. if `file.txt` does not exist, it will be created\n",
        "* D. the opened file cannot be written with the use of the `str` variable (V)"
      ],
      "metadata": {
        "id": "U4RWTTiPW0tf"
      }
    },
    {
      "cell_type": "markdown",
      "source": [
        "39. The following class hierarchy is given. What is the expected output of the code?"
      ],
      "metadata": {
        "id": "XLiYr4SOYj87"
      }
    },
    {
      "cell_type": "code",
      "source": [
        "class A:\n",
        "  def a(self):\n",
        "    print(\"A\", end = '')\n",
        "  def b(self):\n",
        "    self.a()\n",
        "class B(A):\n",
        "  def a(self):\n",
        "    print(\"B\", end = '')\n",
        "  def do(self):\n",
        "    self.b()\n",
        "class C(A):\n",
        "  def a(self):\n",
        "    print(\"C\", end = '')\n",
        "  def do(self):\n",
        "    self.b()\n",
        "\n",
        "B().do()\n",
        "C().do()"
      ],
      "metadata": {
        "colab": {
          "base_uri": "https://localhost:8080/"
        },
        "id": "T5NRkk0GTEYu",
        "outputId": "9ff1ca63-8ca0-48e9-ca50-cb5bbc301e20"
      },
      "execution_count": null,
      "outputs": [
        {
          "output_type": "stream",
          "name": "stdout",
          "text": [
            "BC"
          ]
        }
      ]
    },
    {
      "cell_type": "markdown",
      "source": [
        "40. Python's built in function named `open()` tries to open a file and returns:\n",
        "* A. an integer value identifying an opened file\n",
        "* B. an error code (0 means success)\n",
        "* C. a stream object (V)\n",
        "* D. always None"
      ],
      "metadata": {
        "id": "5pgl7-Ypaq4h"
      }
    },
    {
      "cell_type": "markdown",
      "source": [
        "41. Which of the following words can be used as a variable name?\n",
        "* A. for\n",
        "* B. True\n",
        "* C. true (V)\n",
        "* D. For (V)"
      ],
      "metadata": {
        "id": "lRpH6RNvbH3D"
      }
    },
    {
      "cell_type": "markdown",
      "source": [
        "42. Python strings can be 'glued' together using the operator:\n",
        "* A. `.`\n",
        "* B. `&`\n",
        "* C. `_`\n",
        "* D. `+` (V)"
      ],
      "metadata": {
        "id": "nxrvXVTcbcUF"
      }
    },
    {
      "cell_type": "markdown",
      "source": [
        "43. A keyword (Choose two.)\n",
        "* A. can be used as an identifier\n",
        "* B. is defined by Python's lexis (V)\n",
        "* C. is also known as a reserved word (V)\n",
        "* D. cannot be used in the user's code"
      ],
      "metadata": {
        "id": "QfUI0EkrbqbY"
      }
    },
    {
      "cell_type": "markdown",
      "source": [
        "44. How many stars `*` does the snippet print?"
      ],
      "metadata": {
        "id": "OWe_wqfWcKrs"
      }
    },
    {
      "cell_type": "code",
      "source": [
        "s = '*****'\n",
        "s = s - s[2]\n",
        "print(s)\n",
        "#string is immutable, so it is erroneous"
      ],
      "metadata": {
        "colab": {
          "base_uri": "https://localhost:8080/",
          "height": 271
        },
        "id": "l3yVd37JZm51",
        "outputId": "e24d7df0-a68d-45c5-fe50-055e86324b16"
      },
      "execution_count": null,
      "outputs": [
        {
          "output_type": "error",
          "ename": "TypeError",
          "evalue": "unsupported operand type(s) for -: 'str' and 'str'",
          "traceback": [
            "\u001b[0;31m---------------------------------------------------------------------------\u001b[0m",
            "\u001b[0;31mTypeError\u001b[0m                                 Traceback (most recent call last)",
            "\u001b[0;32m<ipython-input-4-3c49c306f6b3>\u001b[0m in \u001b[0;36m<cell line: 2>\u001b[0;34m()\u001b[0m\n\u001b[1;32m      1\u001b[0m \u001b[0ms\u001b[0m \u001b[0;34m=\u001b[0m \u001b[0;34m'*****'\u001b[0m\u001b[0;34m\u001b[0m\u001b[0;34m\u001b[0m\u001b[0m\n\u001b[0;32m----> 2\u001b[0;31m \u001b[0ms\u001b[0m \u001b[0;34m=\u001b[0m \u001b[0ms\u001b[0m \u001b[0;34m-\u001b[0m \u001b[0ms\u001b[0m\u001b[0;34m[\u001b[0m\u001b[0;36m2\u001b[0m\u001b[0;34m]\u001b[0m\u001b[0;34m\u001b[0m\u001b[0;34m\u001b[0m\u001b[0m\n\u001b[0m\u001b[1;32m      3\u001b[0m \u001b[0mprint\u001b[0m\u001b[0;34m(\u001b[0m\u001b[0ms\u001b[0m\u001b[0;34m)\u001b[0m\u001b[0;34m\u001b[0m\u001b[0;34m\u001b[0m\u001b[0m\n",
            "\u001b[0;31mTypeError\u001b[0m: unsupported operand type(s) for -: 'str' and 'str'"
          ]
        }
      ]
    },
    {
      "cell_type": "markdown",
      "source": [
        "45. Which line can be used instead of the comment to cause the snippet to produce the following expected output? (Choose two.)"
      ],
      "metadata": {
        "id": "xpkvBj1RcoTZ"
      }
    },
    {
      "cell_type": "code",
      "source": [
        "#Expected output:\n",
        "#123\n",
        "#Code:\n",
        "c,b,a = 1,3,2\n",
        "#put line here\n",
        "print(a,b,c)\n",
        "\n",
        "# a, b, c = c, a, b"
      ],
      "metadata": {
        "id": "Dk4AOYMBcfEH"
      },
      "execution_count": null,
      "outputs": []
    },
    {
      "cell_type": "markdown",
      "source": [
        "46. Assuming that the V variable holds an integer value to 2, which of the following operators should be used instead of OPER to make the expression equal to 1?\n",
        "* A. `<<<`\n",
        "* B. `>>>`\n",
        "* C. `>>` (V)\n",
        "* D. `<<`"
      ],
      "metadata": {
        "id": "QTCAg-P_dieE"
      }
    },
    {
      "cell_type": "markdown",
      "source": [
        "47. How many `*` does the following snippet print?"
      ],
      "metadata": {
        "id": "DCuygDsqeSgH"
      }
    },
    {
      "cell_type": "code",
      "source": [
        "i = 3\n",
        "while i > 0:\n",
        "  i -= 1\n",
        "  print(\"*\")\n",
        "else:\n",
        "  print(\"*\")"
      ],
      "metadata": {
        "colab": {
          "base_uri": "https://localhost:8080/"
        },
        "id": "4f37pnRgeaSs",
        "outputId": "224d5be0-086e-4bab-d5cb-4f038ecef341"
      },
      "execution_count": null,
      "outputs": [
        {
          "output_type": "stream",
          "name": "stdout",
          "text": [
            "*\n",
            "*\n",
            "*\n",
            "*\n"
          ]
        }
      ]
    },
    {
      "cell_type": "markdown",
      "source": [
        "48. UNICODE is:\n",
        "* A. the name of an operating system\n",
        "* B. a standard for encoding and handling texts (V)\n",
        "* C. the name of a programming lauguage\n",
        "* D. the name of a text processor"
      ],
      "metadata": {
        "id": "5h3Mj5bzetj7"
      }
    },
    {
      "cell_type": "markdown",
      "source": [
        "49. What is the expected ouput of the following snippet?"
      ],
      "metadata": {
        "id": "S0ttvKoIfCst"
      }
    },
    {
      "cell_type": "code",
      "source": [
        "s = '* - *'\n",
        "s = 2 * s + s * 2\n",
        "print(s)"
      ],
      "metadata": {
        "colab": {
          "base_uri": "https://localhost:8080/"
        },
        "id": "Lk-wctHGd8Yo",
        "outputId": "ecfd1f6c-702d-439c-c6ba-b5475b20a7ce"
      },
      "execution_count": null,
      "outputs": [
        {
          "output_type": "stream",
          "name": "stdout",
          "text": [
            "* - ** - ** - ** - *\n"
          ]
        }
      ]
    },
    {
      "cell_type": "markdown",
      "source": [
        "50. Which of the listed actions can be applied to the following tuples? (Choose two.)\n",
        "* A. `tup[:]`(V)\n",
        "* B. `tup.append(0)`\n",
        "* C. `tup[0]` (V)\n",
        "* D. `del tup`"
      ],
      "metadata": {
        "id": "KSTgErHBf_jl"
      }
    },
    {
      "cell_type": "markdown",
      "source": [
        "51. Executing the following snippet -\n",
        "* A. to hold two keys name 'pi' linked to 3.14 and 3.1415 respectivelu\n",
        "* B. to hold two keys named 'pi' linked to 3.15 and 3.1415\n",
        "* C. to hold one key named 'pi' lined to 3.1415 (V)\n",
        "* D. to hold two keys name 'pi' linked to 3.1415"
      ],
      "metadata": {
        "id": "4mSl_3JYv5vj"
      }
    },
    {
      "cell_type": "code",
      "source": [
        "dct = {'pi' : 3.14}\n",
        "dct['pi'] = 3.1415\n",
        "print(dct)"
      ],
      "metadata": {
        "colab": {
          "base_uri": "https://localhost:8080/"
        },
        "id": "Y9H88nIqf8Tn",
        "outputId": "a30855aa-c48d-4b4d-cb1f-0b414d321c5b"
      },
      "execution_count": null,
      "outputs": [
        {
          "output_type": "stream",
          "name": "stdout",
          "text": [
            "{'pi': 3.1415}\n"
          ]
        }
      ]
    },
    {
      "cell_type": "markdown",
      "source": [
        "52. How many elements will the `list1` list contain after execution of the following snippet?"
      ],
      "metadata": {
        "id": "qLyaG7_GwrKR"
      }
    },
    {
      "cell_type": "code",
      "source": [
        "list1 = \"dont't think twice,do it\".split(',')\n",
        "print(list1)\n",
        "#two elements"
      ],
      "metadata": {
        "colab": {
          "base_uri": "https://localhost:8080/"
        },
        "id": "rBWk1ehNwFcy",
        "outputId": "8daa9d28-abd6-45b0-eb52-8e6f1044863d"
      },
      "execution_count": null,
      "outputs": [
        {
          "output_type": "stream",
          "name": "stdout",
          "text": [
            "[\"dont't think twice\", 'do it']\n"
          ]
        }
      ]
    },
    {
      "cell_type": "markdown",
      "source": [
        "53. Which of the equations are `True`? (Choose two.)\n",
        "* A. `chr(ord(x)) == x` (V)\n",
        "* B. `ord(ord(x)) == x`\n",
        "* C. `chr(chr(x)) == x`\n",
        "* D. `ord(chr(x)) == x` (V)"
      ],
      "metadata": {
        "id": "bQYJA93Axh-0"
      }
    },
    {
      "cell_type": "markdown",
      "source": [
        "54. If you want to transform a string into a list of words, what invocation would you use? (Choose two.)\n",
        "* A. `s.split()` (V)\n",
        "* B. `split(s, '')`\n",
        "* C. `s.split('')` (V)\n",
        "* D. `split(s)`"
      ],
      "metadata": {
        "id": "EJa6xZRYvEe2"
      }
    },
    {
      "cell_type": "code",
      "source": [
        "#Expected output: The, Catcher, in, the, Rye,\n",
        "#Code:\n",
        "\n",
        "s = \"The Catcher in the Rye\"\n",
        "l = #put a proper invocation here.\n",
        "for w in l:\n",
        "  print(w, end = '',)"
      ],
      "metadata": {
        "id": "6LOlpek8xEKK"
      },
      "execution_count": null,
      "outputs": []
    },
    {
      "cell_type": "markdown",
      "source": [
        "55. Assuming that `lst` is a four-elements list is there any difference between these two statements?\n",
        "`del lst`\n",
        "`del lst[:]`\n",
        "* A. yes, there is, the first line empties the list, the second deletes the list as a whole\n",
        "* B. yes, there is, the first line deletes the list as a whole, the second line just empties the list (V)\n",
        "* C. no, there is no difference\n",
        "* D. yes, there is, the first line deletes the list as a whole, the second line removes all elements except the first one"
      ],
      "metadata": {
        "id": "tORDXnnbIu_0"
      }
    },
    {
      "cell_type": "markdown",
      "source": [
        "56. What should you put instead of `XXX` to print out the module name?\n",
        "* A. `main`\n",
        "* B. `_main_`\n",
        "* C. `__main__` (V)\n",
        "* D. `___main___`\n"
      ],
      "metadata": {
        "id": "R1LsBGW-J32d"
      }
    },
    {
      "cell_type": "code",
      "source": [
        "If __name__ != \"XXX\":\n",
        "  print(__name__)"
      ],
      "metadata": {
        "id": "g6bxer4OKDML"
      },
      "execution_count": null,
      "outputs": []
    },
    {
      "cell_type": "markdown",
      "source": [
        "57. Files with the `suffix.pyc` contain:\n",
        "* A. Python 4 source code\n",
        "* B. backpus\n",
        "* C. temporary data\n",
        "* D. semi-compiles Python code (V)"
      ],
      "metadata": {
        "id": "dmM4282VKipF"
      }
    },
    {
      "cell_type": "markdown",
      "source": [
        "58. Package source directories/folders can be:\n",
        "* A. converted into the so-called pypck format\n",
        "* B. packed as a ZIP file and distributed as one file (V)\n",
        "* C. rebuilt to a flat form and distributed as one directory/folder\n",
        "* D. removed as Python compiles them into an internal portable format"
      ],
      "metadata": {
        "id": "D9fXNHBILLeE"
      }
    },
    {
      "cell_type": "markdown",
      "source": [
        "59. What can you deduce from the line below? (Choose two,)\n",
        "\n",
        "`x = a.b.c.f()`\n",
        "* A. import `a.b.c` should be placed before that line (V)\n",
        "* B. `f()` is located in subpackage `c` of subpackage `b` of package `a` (V)\n",
        "* C. the line is incorrect\n",
        "* D. the function being invoked is called `a.b.c.f()`"
      ],
      "metadata": {
        "id": "CBW7Sg2LL0wB"
      }
    },
    {
      "cell_type": "markdown",
      "source": [
        "60. A two-parameter `lambda` function raising its first parameter to the power of the second parameter should be declared as:\n",
        "* A. `lambda(x,y) = x ** y`\n",
        "* B. `lambda(x,y): x ** y`\n",
        "* C. `def lambda(x,y): return x ** y`\n",
        "* D. `lambda x, y: x ** y` (V)"
      ],
      "metadata": {
        "id": "OXjvFYgRMx4t"
      }
    },
    {
      "cell_type": "markdown",
      "source": [
        "61. What is the expected output of the following code?"
      ],
      "metadata": {
        "id": "uo1jmO2ENm6v"
      }
    },
    {
      "cell_type": "code",
      "source": [
        "def f(n):\n",
        "  if n == 1:\n",
        "    return 1\n",
        "  return n + f(n - 1)\n",
        "print(f(2))"
      ],
      "metadata": {
        "colab": {
          "base_uri": "https://localhost:8080/"
        },
        "id": "dBlwXsOLMe_T",
        "outputId": "3c2ba725-22fd-4bcf-a95e-5b77eece65d7"
      },
      "execution_count": null,
      "outputs": [
        {
          "output_type": "stream",
          "name": "stdout",
          "text": [
            "3\n"
          ]
        }
      ]
    },
    {
      "cell_type": "markdown",
      "source": [
        "62. A method for passing the arguments used by the following snippet is called:\n",
        "* A. sequential\n",
        "* B. named\n",
        "* C. positional (V)\n",
        "* D. keyword"
      ],
      "metadata": {
        "id": "EBYiB8U4OBKG"
      }
    },
    {
      "cell_type": "code",
      "source": [
        "def fun(a ,b):\n",
        "  return a + b\n",
        "res = fun(1, 2)"
      ],
      "metadata": {
        "id": "Fk7hkuFDN2qx"
      },
      "execution_count": null,
      "outputs": []
    },
    {
      "cell_type": "markdown",
      "source": [
        "63. What is the expected behavior of the following code?"
      ],
      "metadata": {
        "id": "BeT2tei9Oxxg"
      }
    },
    {
      "cell_type": "code",
      "source": [
        "def f(n):\n",
        "   for i in range(1, n + 1):\n",
        "    yield i\n",
        "for i in f(2):\n",
        "  print(i, end = ' ')\n",
        "#function f(n) will have a generator object, because yield does not return any value to the function.\n",
        "# but it store value 1, 2 into a list. So we can loop it using for loop thru the function f(2)"
      ],
      "metadata": {
        "colab": {
          "base_uri": "https://localhost:8080/"
        },
        "id": "bbFEXyAWO5A9",
        "outputId": "1a5b5318-4140-4c33-e7cf-a713eab07f87"
      },
      "execution_count": null,
      "outputs": [
        {
          "output_type": "stream",
          "name": "stdout",
          "text": [
            "12"
          ]
        }
      ]
    },
    {
      "cell_type": "markdown",
      "source": [
        "64. What is the expected output of the following code?"
      ],
      "metadata": {
        "id": "u42yBPBMR3tG"
      }
    },
    {
      "cell_type": "code",
      "source": [
        "1st = [x for x in range(5)] #Output = [0, 1, 2, 3, 4]\n",
        "print(1st)\n",
        "1st = list(filter(lambda x: x % 2 == 0, 1st))\n",
        "print(len(1st))\n",
        "# should lst instead of 1st."
      ],
      "metadata": {
        "colab": {
          "base_uri": "https://localhost:8080/",
          "height": 145
        },
        "id": "a8TWokRKPoWn",
        "outputId": "38b3a4dd-6e42-42f9-f669-f2f157b47ecd"
      },
      "execution_count": null,
      "outputs": [
        {
          "output_type": "error",
          "ename": "SyntaxError",
          "evalue": "invalid decimal literal (<ipython-input-11-b43669b3846b>, line 1)",
          "traceback": [
            "\u001b[0;36m  File \u001b[0;32m\"<ipython-input-11-b43669b3846b>\"\u001b[0;36m, line \u001b[0;32m1\u001b[0m\n\u001b[0;31m    1st = [x for x in range(5)] #Output = [0, 1, 2, 3, 4]\u001b[0m\n\u001b[0m    ^\u001b[0m\n\u001b[0;31mSyntaxError\u001b[0m\u001b[0;31m:\u001b[0m invalid decimal literal\n"
          ]
        }
      ]
    },
    {
      "cell_type": "markdown",
      "source": [
        "65. What is the expected behavior of the following code?\n"
      ],
      "metadata": {
        "id": "kUBlCADBijDp"
      }
    },
    {
      "cell_type": "code",
      "source": [
        "def unclear(x):\n",
        "  if x % 2 == 1:\n",
        "    return 0\n",
        "print(unclear(1) + unclear(2))\n",
        "#Output will be runtime error because unclear(1) will be None\n",
        "#and we can not concanatete Nonetype with int, which is 0 for unclear(2)"
      ],
      "metadata": {
        "colab": {
          "base_uri": "https://localhost:8080/",
          "height": 235
        },
        "id": "ioX6pkJwSiKo",
        "outputId": "e54fb46a-759d-4e40-b441-fc63ffb041e7"
      },
      "execution_count": null,
      "outputs": [
        {
          "output_type": "error",
          "ename": "TypeError",
          "evalue": "unsupported operand type(s) for +: 'int' and 'NoneType'",
          "traceback": [
            "\u001b[0;31m---------------------------------------------------------------------------\u001b[0m",
            "\u001b[0;31mTypeError\u001b[0m                                 Traceback (most recent call last)",
            "\u001b[0;32m<ipython-input-13-32177bc72d30>\u001b[0m in \u001b[0;36m<cell line: 4>\u001b[0;34m()\u001b[0m\n\u001b[1;32m      2\u001b[0m   \u001b[0;32mif\u001b[0m \u001b[0mx\u001b[0m \u001b[0;34m%\u001b[0m \u001b[0;36m2\u001b[0m \u001b[0;34m==\u001b[0m \u001b[0;36m1\u001b[0m\u001b[0;34m:\u001b[0m\u001b[0;34m\u001b[0m\u001b[0;34m\u001b[0m\u001b[0m\n\u001b[1;32m      3\u001b[0m     \u001b[0;32mreturn\u001b[0m \u001b[0;36m0\u001b[0m\u001b[0;34m\u001b[0m\u001b[0;34m\u001b[0m\u001b[0m\n\u001b[0;32m----> 4\u001b[0;31m \u001b[0mprint\u001b[0m\u001b[0;34m(\u001b[0m\u001b[0munclear\u001b[0m\u001b[0;34m(\u001b[0m\u001b[0;36m1\u001b[0m\u001b[0;34m)\u001b[0m \u001b[0;34m+\u001b[0m \u001b[0munclear\u001b[0m\u001b[0;34m(\u001b[0m\u001b[0;36m2\u001b[0m\u001b[0;34m)\u001b[0m\u001b[0;34m)\u001b[0m\u001b[0;34m\u001b[0m\u001b[0;34m\u001b[0m\u001b[0m\n\u001b[0m\u001b[1;32m      5\u001b[0m \u001b[0;31m#Output will be 0\u001b[0m\u001b[0;34m\u001b[0m\u001b[0;34m\u001b[0m\u001b[0m\n",
            "\u001b[0;31mTypeError\u001b[0m: unsupported operand type(s) for +: 'int' and 'NoneType'"
          ]
        }
      ]
    },
    {
      "cell_type": "markdown",
      "source": [
        "66. If any of a class's components has a name that starts with two underscore `_`, then:\n",
        "* A. the class component's name will be mangled (V)\n",
        "* B. the class component's has to be an instance variable\n",
        "* C. the class component has to be a class variable\n",
        "* D. the class component has to be a method"
      ],
      "metadata": {
        "id": "7Ej2t1x9jtbH"
      }
    },
    {
      "cell_type": "markdown",
      "source": [
        "67. If you need to serve two different exceptions called `Ex1` and `Ex2` in one `except` branch, you can write\n",
        "* A. `except Ex1 Ex2:`\n",
        "* B. `except(Ex1, Ex2):` (V)\n",
        "* C. `except Ex1, Ex2:`\n",
        "* D. `except Ex1 + Ex2:`"
      ],
      "metadata": {
        "id": "R2Bfck8vkVRq"
      }
    },
    {
      "cell_type": "markdown",
      "source": [
        "68. A function called `issubclass(c1, c2) is able to check if:\n",
        "* A. `c1` and `c2` are both subclasses of the same superclass\n",
        "* B. `c2` is a subclass of `c1`\n",
        "* C. `c1` is a subclass of `c2` (V)\n",
        "* D. `c1` and `c2` are not subclasses of the same superclass"
      ],
      "metadata": {
        "id": "2UtgWLoFpOrb"
      }
    },
    {
      "cell_type": "markdown",
      "source": [
        "69. A class constructor (Select two answers)\n",
        "* A. can return a value\n",
        "* B. cannot be invoked directly inside the class (V)\n",
        "* C. can be invoked directly from any of the subclasses (V)\n",
        "* D. can be invoked directly from any of the superclasses"
      ],
      "metadata": {
        "id": "3V88RFtbpyIv"
      }
    },
    {
      "cell_type": "markdown",
      "source": [
        "70. The following class definition is given. We want the `show()` method to invoke the `get()` method, and then output the value the `get()` method returns. Which of the invocations should be used instead of `XXX`?\n",
        "* A. `print(get(self))`\n",
        "* B. `print(self.get())` (V)\n",
        "* C. `print(get())`\n",
        "* D. `print(self.get(val))`\n"
      ],
      "metadata": {
        "id": "KnewtiARtS3u"
      }
    },
    {
      "cell_type": "code",
      "source": [
        "class Class:\n",
        "  def __init__(self, val):\n",
        "    self.val = val\n",
        "  def get(self):\n",
        "    return self.val\n",
        "  def show(self):\n",
        "    #XXX"
      ],
      "metadata": {
        "id": "KP2pa8CtjMDs"
      },
      "execution_count": null,
      "outputs": []
    },
    {
      "cell_type": "markdown",
      "source": [
        "71. If `s` is a stream open for reading, what do you expect from the following invocation?\n",
        "`c = s.read()`\n",
        "* A. one line of the file will be read and stored in the string called `c`\n",
        "* B. the whole file content will be read and stored in the string called `c` (V)\n",
        "* C. one character will be read and stored in the string called `c`\n",
        "* D. one disk sector (512 bytes) will be read and stored in the string called `c`"
      ],
      "metadata": {
        "id": "uStkrAPvu3nh"
      }
    },
    {
      "cell_type": "markdown",
      "source": [
        "72. You are going to read 16 bytes from a binary file into a bytearray called `data`. Which lines would you use? (Choose two.)\n",
        "* A. `data = bytearray(16)bf.readinto(data)` (V)\n",
        "* B. `data = binfile.read(bytearray(16))`\n",
        "* C. `bf.readinto(data = bytearray(16))`\n",
        "* D. `data = bytearray(binfile.read(16))` (V)"
      ],
      "metadata": {
        "id": "xU8psbozvnJq"
      }
    },
    {
      "cell_type": "markdown",
      "source": [
        "73. What is the expected output of the following snippet?"
      ],
      "metadata": {
        "id": "23JwcbbOysNR"
      }
    },
    {
      "cell_type": "code",
      "source": [
        "class X:\n",
        "  pass\n",
        "class Y(X):\n",
        "  pass\n",
        "class Z(Y):\n",
        "  pass\n",
        "\n",
        "x = Z()\n",
        "z = Z()\n",
        "print(isinstance(x, Z), isinstance(z, X))\n",
        "#Output is (True, True)"
      ],
      "metadata": {
        "colab": {
          "base_uri": "https://localhost:8080/"
        },
        "id": "Y0yVLM65vl1Q",
        "outputId": "0b152474-8868-45cb-cf81-705d842abfb4"
      },
      "execution_count": null,
      "outputs": [
        {
          "output_type": "stream",
          "name": "stdout",
          "text": [
            "True True\n"
          ]
        }
      ]
    },
    {
      "cell_type": "markdown",
      "source": [
        "74. Assuming that the code below has been executed successfully, which of the following expressions will always evaluate to `True`? (Choose two.)\n",
        "* A. `v1 >= 1`\n",
        "* B. `v1 == v2` (V)\n",
        "* C. `len(random.sample([1, 2, 3], 2)) > 2`\n",
        "* D. `random.choice([1, 2, 3]) >= 1` (V)"
      ],
      "metadata": {
        "id": "Hm-c54f3zY-W"
      }
    },
    {
      "cell_type": "code",
      "source": [
        "import random\n",
        "random.seed(1)\n",
        "v1 = random.random()\n",
        "random.seed(1)\n",
        "v2 = random.random()"
      ],
      "metadata": {
        "id": "nD1iLW8nzsQV"
      },
      "execution_count": null,
      "outputs": []
    },
    {
      "cell_type": "markdown",
      "source": [
        "75. Which one of the platform module functions should be used to determine the underlying platform name?\n",
        "* A. `platform.python_version()`\n",
        "* B. `platform.processor()`\n",
        "* C. `platform.platform()`(V)\n",
        "* D. `platform.uname()`\n"
      ],
      "metadata": {
        "id": "gMxW2e6z00wk"
      }
    },
    {
      "cell_type": "markdown",
      "source": [
        "76. What is the expected output of the following code?"
      ],
      "metadata": {
        "id": "ZhdGVKA21WXO"
      }
    },
    {
      "cell_type": "code",
      "source": [
        "import sys\n",
        "import math\n",
        "\n",
        "b1 = type(dir(math)[0]) is str\n",
        "b2 = type(sys.path[-1]) is str\n",
        "print(b1 and b2)"
      ],
      "metadata": {
        "colab": {
          "base_uri": "https://localhost:8080/"
        },
        "id": "ITWIII-Y1VoM",
        "outputId": "482fed6f-c117-41d6-bd74-1c20c5df0f0c"
      },
      "execution_count": null,
      "outputs": [
        {
          "output_type": "stream",
          "name": "stdout",
          "text": [
            "True\n"
          ]
        }
      ]
    },
    {
      "cell_type": "markdown",
      "source": [
        "77. With regards to the directory structure below, select the proper forms of the directives in order to import `module_a` (Choose two.)\n",
        "* A. `from pypack import module_a` (V)\n",
        "* B. `import module_a from pypack`\n",
        "* C. `import module_a`\n",
        "* D. `import pypack.module_a` (V)"
      ],
      "metadata": {
        "id": "__kD5uBR2Wdp"
      }
    },
    {
      "cell_type": "code",
      "source": [
        "pypack(dir)\n",
        "|\n",
        "|--upper(dir)\n",
        "|  |\n",
        "|  |--lower(dir)\n",
        "|  |  |\n",
        "|  |  |_ module_.py(file)\n",
        "|  |\n",
        "|  |_ module_b.py(file)\n",
        "|\n",
        "|_ module_a.py(file)\n",
        "\n"
      ],
      "metadata": {
        "id": "Ax7YFHYN16G2"
      },
      "execution_count": null,
      "outputs": []
    },
    {
      "cell_type": "markdown",
      "source": [
        "78. A Python module named `pymod.py` contains a function named `pyfun()`. Which of the following snippets will let you invoke the function? (Choose two.)\n",
        "* A. `import pymod pymod.pyfun()` (V)\n",
        "* B. `from pymod import pyfun pyfun()` (V)\n",
        "* C. `from pymod import * pymod.pyfun()`\n",
        "* D. `import pyfun from pymod pyfun()`"
      ],
      "metadata": {
        "id": "PeJEqjQo6Q7l"
      }
    },
    {
      "cell_type": "markdown",
      "source": [
        "79. What is true about Python packages? (Choose two.)\n",
        "* A. a package is a single file whose name ends with the `pa` entension\n",
        "* B. a package is a group of related modules (V)\n",
        "* C. the `__name__` variable always contains the name of a package\n",
        "* D. the `pyc` extension is used to mark semi-compiled Python packages (V)\n"
      ],
      "metadata": {
        "id": "0yhrm2fI7NaH"
      }
    },
    {
      "cell_type": "markdown",
      "source": [
        "80. What is the expected behavior of the following code?"
      ],
      "metadata": {
        "id": "N4iupI6qK0nB"
      }
    },
    {
      "cell_type": "code",
      "source": [
        "from re import S\n",
        "m = 0\n",
        "def foo(n):\n",
        "  global m\n",
        "  assert m == 0\n",
        "  try:\n",
        "    return 1/n\n",
        "  except ArithmeticError:\n",
        "    m += 1\n",
        "    raise\n",
        "try:\n",
        "  foo(0)\n",
        "except ArithmeticError:\n",
        "  m += 2\n",
        "except: S\n",
        "  m += 1\n",
        "print(m)\n",
        "\n",
        "# it is runtime error, but if S is not there, the output should 3"
      ],
      "metadata": {
        "colab": {
          "base_uri": "https://localhost:8080/",
          "height": 145
        },
        "id": "6zLZVd9w7KgG",
        "outputId": "d5c2e119-2d22-4037-82ef-3801c6a1ceef"
      },
      "execution_count": null,
      "outputs": [
        {
          "output_type": "error",
          "ename": "IndentationError",
          "evalue": "unexpected indent (<ipython-input-1-1c7478a358c9>, line 16)",
          "traceback": [
            "\u001b[0;36m  File \u001b[0;32m\"<ipython-input-1-1c7478a358c9>\"\u001b[0;36m, line \u001b[0;32m16\u001b[0m\n\u001b[0;31m    m += 1\u001b[0m\n\u001b[0m    ^\u001b[0m\n\u001b[0;31mIndentationError\u001b[0m\u001b[0;31m:\u001b[0m unexpected indent\n"
          ]
        }
      ]
    },
    {
      "cell_type": "markdown",
      "source": [
        "81. What is the expected bahavior of the following code?"
      ],
      "metadata": {
        "id": "VlVtQ-fRLuuV"
      }
    },
    {
      "cell_type": "code",
      "source": [
        "s = '2A'\n",
        "try:\n",
        "  n = int(s)\n",
        "except TypeError:\n",
        "  n = 3\n",
        "except LookupError:\n",
        "  n = 2\n",
        "#except:\n",
        "#  n = 1\n",
        "\n",
        "print(n)\n",
        "#The error is ValueError"
      ],
      "metadata": {
        "colab": {
          "base_uri": "https://localhost:8080/",
          "height": 253
        },
        "id": "Qqm25SdjLcDF",
        "outputId": "deb9351a-6b83-4798-84c5-5b5edafb25df"
      },
      "execution_count": null,
      "outputs": [
        {
          "output_type": "error",
          "ename": "ValueError",
          "evalue": "invalid literal for int() with base 10: '2A'",
          "traceback": [
            "\u001b[0;31m---------------------------------------------------------------------------\u001b[0m",
            "\u001b[0;31mValueError\u001b[0m                                Traceback (most recent call last)",
            "\u001b[0;32m<ipython-input-3-69c5e4cc74f2>\u001b[0m in \u001b[0;36m<cell line: 2>\u001b[0;34m()\u001b[0m\n\u001b[1;32m      1\u001b[0m \u001b[0ms\u001b[0m \u001b[0;34m=\u001b[0m \u001b[0;34m'2A'\u001b[0m\u001b[0;34m\u001b[0m\u001b[0;34m\u001b[0m\u001b[0m\n\u001b[1;32m      2\u001b[0m \u001b[0;32mtry\u001b[0m\u001b[0;34m:\u001b[0m\u001b[0;34m\u001b[0m\u001b[0;34m\u001b[0m\u001b[0m\n\u001b[0;32m----> 3\u001b[0;31m   \u001b[0mn\u001b[0m \u001b[0;34m=\u001b[0m \u001b[0mint\u001b[0m\u001b[0;34m(\u001b[0m\u001b[0ms\u001b[0m\u001b[0;34m)\u001b[0m\u001b[0;34m\u001b[0m\u001b[0;34m\u001b[0m\u001b[0m\n\u001b[0m\u001b[1;32m      4\u001b[0m \u001b[0;32mexcept\u001b[0m \u001b[0mTypeError\u001b[0m\u001b[0;34m:\u001b[0m\u001b[0;34m\u001b[0m\u001b[0;34m\u001b[0m\u001b[0m\n\u001b[1;32m      5\u001b[0m   \u001b[0mn\u001b[0m \u001b[0;34m=\u001b[0m \u001b[0;36m3\u001b[0m\u001b[0;34m\u001b[0m\u001b[0;34m\u001b[0m\u001b[0m\n",
            "\u001b[0;31mValueError\u001b[0m: invalid literal for int() with base 10: '2A'"
          ]
        }
      ]
    },
    {
      "cell_type": "markdown",
      "source": [
        "82. Which of the following snippets will execute without raising any unhandled exceptions? (Choose two.)"
      ],
      "metadata": {
        "id": "3Hiu_roqMeTI"
      }
    },
    {
      "cell_type": "code",
      "source": [
        "# A.\n",
        "try:\n",
        "  print(0/0)\n",
        "#except:\n",
        "#  print(0/1)\n",
        "#else:\n",
        "#  print(0/2)\n",
        "except:\n",
        "  print(0/1)"
      ],
      "metadata": {
        "colab": {
          "base_uri": "https://localhost:8080/"
        },
        "id": "MBwf1i8HMMC5",
        "outputId": "15678db1-bccb-4cf7-f7b2-7374a4aad4e1"
      },
      "execution_count": null,
      "outputs": [
        {
          "output_type": "stream",
          "name": "stdout",
          "text": [
            "0.0\n"
          ]
        }
      ]
    },
    {
      "cell_type": "code",
      "source": [
        "# B.\n",
        "try:\n",
        "  print(int(\"0\"))\n",
        "except NameError:\n",
        "  print(\"0\")\n",
        "else:\n",
        "  print(int(\"\"))"
      ],
      "metadata": {
        "colab": {
          "base_uri": "https://localhost:8080/",
          "height": 235
        },
        "id": "snjGdqrfMzGN",
        "outputId": "5e8d7530-9cf0-49e4-eb80-5b25832517a8"
      },
      "execution_count": null,
      "outputs": [
        {
          "output_type": "stream",
          "name": "stdout",
          "text": [
            "0\n"
          ]
        },
        {
          "output_type": "error",
          "ename": "ValueError",
          "evalue": "invalid literal for int() with base 10: ''",
          "traceback": [
            "\u001b[0;31m---------------------------------------------------------------------------\u001b[0m",
            "\u001b[0;31mValueError\u001b[0m                                Traceback (most recent call last)",
            "\u001b[0;32m<ipython-input-5-6bf53e0efa18>\u001b[0m in \u001b[0;36m<cell line: 2>\u001b[0;34m()\u001b[0m\n\u001b[1;32m      5\u001b[0m   \u001b[0mprint\u001b[0m\u001b[0;34m(\u001b[0m\u001b[0;34m\"0\"\u001b[0m\u001b[0;34m)\u001b[0m\u001b[0;34m\u001b[0m\u001b[0;34m\u001b[0m\u001b[0m\n\u001b[1;32m      6\u001b[0m \u001b[0;32melse\u001b[0m\u001b[0;34m:\u001b[0m\u001b[0;34m\u001b[0m\u001b[0;34m\u001b[0m\u001b[0m\n\u001b[0;32m----> 7\u001b[0;31m   \u001b[0mprint\u001b[0m\u001b[0;34m(\u001b[0m\u001b[0mint\u001b[0m\u001b[0;34m(\u001b[0m\u001b[0;34m\"\"\u001b[0m\u001b[0;34m)\u001b[0m\u001b[0;34m)\u001b[0m\u001b[0;34m\u001b[0m\u001b[0;34m\u001b[0m\u001b[0m\n\u001b[0m",
            "\u001b[0;31mValueError\u001b[0m: invalid literal for int() with base 10: ''"
          ]
        }
      ]
    },
    {
      "cell_type": "code",
      "source": [
        "# C.\n",
        "import math\n",
        "try:\n",
        "  print(math.sqrt(-1))\n",
        "except:\n",
        "  print(math.sqrt(0))\n",
        "else:\n",
        "  print(math.sqrt(1))"
      ],
      "metadata": {
        "colab": {
          "base_uri": "https://localhost:8080/"
        },
        "id": "SCplFOQ2NBg8",
        "outputId": "6ede4c8a-e7f9-4536-f2ae-e6ee6e9fdcc9"
      },
      "execution_count": null,
      "outputs": [
        {
          "output_type": "stream",
          "name": "stdout",
          "text": [
            "0.0\n"
          ]
        }
      ]
    },
    {
      "cell_type": "code",
      "source": [
        "# D.\n",
        "try:\n",
        "  print(float(\"1e1\"))\n",
        "except (NameError, SystemError):\n",
        "  print(float(\"1a1\"))\n",
        "else:\n",
        "  print(float(\"1c1\"))"
      ],
      "metadata": {
        "colab": {
          "base_uri": "https://localhost:8080/",
          "height": 235
        },
        "id": "8Fdc0aqANZVE",
        "outputId": "79b0c459-e751-43fc-adfa-01575f374841"
      },
      "execution_count": null,
      "outputs": [
        {
          "output_type": "stream",
          "name": "stdout",
          "text": [
            "10.0\n"
          ]
        },
        {
          "output_type": "error",
          "ename": "ValueError",
          "evalue": "could not convert string to float: '1c1'",
          "traceback": [
            "\u001b[0;31m---------------------------------------------------------------------------\u001b[0m",
            "\u001b[0;31mValueError\u001b[0m                                Traceback (most recent call last)",
            "\u001b[0;32m<ipython-input-7-5d57247c6ff9>\u001b[0m in \u001b[0;36m<cell line: 2>\u001b[0;34m()\u001b[0m\n\u001b[1;32m      5\u001b[0m   \u001b[0mprint\u001b[0m\u001b[0;34m(\u001b[0m\u001b[0mfloat\u001b[0m\u001b[0;34m(\u001b[0m\u001b[0;34m\"1a1\"\u001b[0m\u001b[0;34m)\u001b[0m\u001b[0;34m)\u001b[0m\u001b[0;34m\u001b[0m\u001b[0;34m\u001b[0m\u001b[0m\n\u001b[1;32m      6\u001b[0m \u001b[0;32melse\u001b[0m\u001b[0;34m:\u001b[0m\u001b[0;34m\u001b[0m\u001b[0;34m\u001b[0m\u001b[0m\n\u001b[0;32m----> 7\u001b[0;31m   \u001b[0mprint\u001b[0m\u001b[0;34m(\u001b[0m\u001b[0mfloat\u001b[0m\u001b[0;34m(\u001b[0m\u001b[0;34m\"1c1\"\u001b[0m\u001b[0;34m)\u001b[0m\u001b[0;34m)\u001b[0m\u001b[0;34m\u001b[0m\u001b[0;34m\u001b[0m\u001b[0m\n\u001b[0m",
            "\u001b[0;31mValueError\u001b[0m: could not convert string to float: '1c1'"
          ]
        }
      ]
    },
    {
      "cell_type": "markdown",
      "source": [
        "83. What is the expected behavior of the following code?\n",
        "* A. it outputs error\n",
        "* B. it outputs `<class 'IndexError'>`\n",
        "* C. it outputs `list assignment index out of range` (V)\n",
        "* D. the code is erroneous and it will not execute"
      ],
      "metadata": {
        "id": "PC4SjPiOOs0l"
      }
    },
    {
      "cell_type": "code",
      "source": [
        "my_list = [1,2,3]\n",
        "try:\n",
        "  my_list[3] =my_list[2]\n",
        "except BaseException as error:\n",
        "    print(error)\n",
        "#list is only have 3 element while my_list[3] is indexing the fourth elements, which exceed the range of list"
      ],
      "metadata": {
        "colab": {
          "base_uri": "https://localhost:8080/"
        },
        "id": "p8z0Pr2oNzUb",
        "outputId": "91446e99-0a04-4c8a-aac3-671afdb41bc6"
      },
      "execution_count": null,
      "outputs": [
        {
          "output_type": "stream",
          "name": "stdout",
          "text": [
            "list assignment index out of range\n"
          ]
        }
      ]
    },
    {
      "cell_type": "markdown",
      "source": [
        "84. What is true about the following snippet?(Choose two.)\n",
        "* A. the string `It's nice to see you` will be seen\n",
        "* B. the string `I feel fine` will be seen\n",
        "* C. the code will raise an unhandled exception\n",
        "* D. the string `what a party` will be seen"
      ],
      "metadata": {
        "id": "LN1b998OP9aw"
      }
    },
    {
      "cell_type": "code",
      "source": [
        "class E(Exception):\n",
        "  def __init__(self, message):\n",
        "    self.message = message\n",
        "  def __str__(self):\n",
        "    return \"It's nice to see you\"\n",
        "\n",
        "try:\n",
        "  print(\"I feel fine\")\n",
        "  raise E(\"What a party\")\n",
        "except E as e:\n",
        "  print(e)\n",
        "else:\n",
        "  print(\"The show must go on\")"
      ],
      "metadata": {
        "colab": {
          "base_uri": "https://localhost:8080/"
        },
        "id": "e4f6YMaTPJUf",
        "outputId": "e1bcf37d-65dd-4855-e643-908458fc53a4"
      },
      "execution_count": null,
      "outputs": [
        {
          "output_type": "stream",
          "name": "stdout",
          "text": [
            "I feel fine\n",
            "It's nice to see you\n"
          ]
        }
      ]
    },
    {
      "cell_type": "markdown",
      "source": [
        "85. Which of the following expressions evaluate to `True` (Choose two.)\n",
        "* A. `ord(\"Z\") - ord(\"z\") == ord(\"0\")`\n",
        "* B. `chr(ord('A') + 1) == 'B'` (V)\n",
        "* C. `len(\"\\\") == 1` (V)\n",
        "* D. `len(\"\"\" \"\"\") == 0`\n"
      ],
      "metadata": {
        "id": "8_6F6PIuR-DJ"
      }
    },
    {
      "cell_type": "code",
      "source": [
        "ord(\"Z\") - ord(\"z\") == ord(\"0\")\n",
        "chr(ord('A') + 1) == 'B'\n",
        "#len(\"\\\") == 1\n",
        "len(\"\"\" \"\"\") == 0"
      ],
      "metadata": {
        "colab": {
          "base_uri": "https://localhost:8080/"
        },
        "id": "Yufs3TlhStqx",
        "outputId": "8aad9670-670c-4247-f1ce-21d2373a2ee6"
      },
      "execution_count": null,
      "outputs": [
        {
          "output_type": "execute_result",
          "data": {
            "text/plain": [
              "False"
            ]
          },
          "metadata": {},
          "execution_count": 20
        }
      ]
    },
    {
      "cell_type": "markdown",
      "source": [
        "86. Which of the following invocations are vaild? (Choose two.)\n",
        "* A. `\"python\".sort()`\n",
        "* B. `sorted(\"python\")` (V)\n",
        "* C. `rfind(\"python\", \"r\")`\n",
        "* D. `\"python\".index(\"th\")` (V)\n"
      ],
      "metadata": {
        "id": "QuzdBITZTXSB"
      }
    },
    {
      "cell_type": "markdown",
      "source": [
        "87. What is the expected behavior of the following code?"
      ],
      "metadata": {
        "id": "R_bY8Bz1UlBi"
      }
    },
    {
      "cell_type": "code",
      "source": [
        "string = str(1/3)\n",
        "print(string)\n",
        "dummy = ''\n",
        "for character in string:\n",
        "  dummy = character + dummy\n",
        "print(dummy)\n",
        "print(dummy[-1])"
      ],
      "metadata": {
        "colab": {
          "base_uri": "https://localhost:8080/"
        },
        "id": "LuqI7uYAQWxF",
        "outputId": "bff4cacd-00a3-4637-a5d3-c5bb3e808873"
      },
      "execution_count": null,
      "outputs": [
        {
          "output_type": "stream",
          "name": "stdout",
          "text": [
            "0.3333333333333333\n",
            "0\n"
          ]
        }
      ]
    },
    {
      "cell_type": "markdown",
      "source": [
        "88. Which of the following statements are true? (Choose two.)\n",
        "* A. II in ACII stands for **I**nformation **I**nterchange (V)\n",
        "* B. a codepoint is a number assigned to given character (V)\n",
        "* C. ACII is sunonymous with UTF-8\n",
        "* D. \\e is an escape sequence used to mark the end of lines"
      ],
      "metadata": {
        "id": "JUZP3nG2Vuk0"
      }
    },
    {
      "cell_type": "markdown",
      "source": [
        "89. Which of the following expressions evaluate to `True`? (Choose two.)\n",
        "* A. `str(1-1) in '0123456789'[-2]` (V)\n",
        "* B. `'dcb' not in 'abcde'[::-1]`\n",
        "* C. `'phd' in 'alpha'`\n",
        "* D. `'True' not in 'False'` (V)"
      ],
      "metadata": {
        "id": "owwdrykWXAUy"
      }
    },
    {
      "cell_type": "markdown",
      "source": [
        "90. What is the expected behavior of the following code?"
      ],
      "metadata": {
        "id": "w3XSWXyzYAG5"
      }
    },
    {
      "cell_type": "code",
      "source": [
        "the_list = \"alpha;beta;gamma\".split(\":\")\n",
        "the_string = ''.join(the_list)\n",
        "print(the_string.isalpha())"
      ],
      "metadata": {
        "id": "fTHnwkfSU18H",
        "colab": {
          "base_uri": "https://localhost:8080/"
        },
        "outputId": "1dd3640c-10e9-4038-b377-af87fb97a0ed"
      },
      "execution_count": null,
      "outputs": [
        {
          "output_type": "stream",
          "name": "stdout",
          "text": [
            "False\n"
          ]
        }
      ]
    },
    {
      "cell_type": "markdown",
      "source": [
        "91. Which of the following expression evaluate to `True`? (Choose two.)\n",
        "* A. `121 + 1 != '1' + 2 * '2'` (V)\n",
        "* B. `'1' + '1' + '1' < '1 * 3'`\n",
        "* C. `'AbC'.lower() < 'AB'`\n",
        "* D. `'3.14' != str(3.1415)` (V)"
      ],
      "metadata": {
        "id": "0_24n87nVph_"
      }
    },
    {
      "cell_type": "markdown",
      "source": [
        "92. Assuming that the snippet below has been executed successfully, which of the following expressions evalutate to `True`? (Choose two.)\n",
        "* A. `string[0] == 'o'`\n",
        "* B. `string is None`\n",
        "* C. `len(string) == 3`\n",
        "* D. `string[0] == string[-1]`"
      ],
      "metadata": {
        "id": "09vZ72CmYo6D"
      }
    },
    {
      "cell_type": "code",
      "source": [
        "string = 'python'[::2] # string = 'pto'\n",
        "string = string[-1] + string[-2] #string = 'ot'"
      ],
      "metadata": {
        "id": "zkdtq7z9VMCX"
      },
      "execution_count": null,
      "outputs": []
    },
    {
      "cell_type": "markdown",
      "source": [
        "93. What is the expected behavior of the following code?"
      ],
      "metadata": {
        "id": "veZcO1CcaRkY"
      }
    },
    {
      "cell_type": "code",
      "source": [
        "class Super:\n",
        "  def make(self):\n",
        "    return 0\n",
        "  def doit(self):\n",
        "    return self.make()\n",
        "class Sub_A(Super):\n",
        "  def make(self):\n",
        "    return 1\n",
        "class Sub_B(Super):\n",
        "  pass\n",
        "\n",
        "a = Sub_A()\n",
        "b = Sub_B()\n",
        "print(a.doit() + b.doit())"
      ],
      "metadata": {
        "colab": {
          "base_uri": "https://localhost:8080/"
        },
        "id": "TrSCHP96aWUy",
        "outputId": "8e4a8e0c-9fe3-459b-a8df-38f8ea29e8d4"
      },
      "execution_count": null,
      "outputs": [
        {
          "output_type": "stream",
          "name": "stdout",
          "text": [
            "1\n"
          ]
        }
      ]
    },
    {
      "cell_type": "markdown",
      "source": [
        "94. Assuming that the following inheritance set is in force, which of the following classes are declared properly? (Choose two.)\n",
        "* A. `class Class_4(D, A): pass` (V)\n",
        "* B. `class Class_3(A, C): pass`\n",
        "* C. `class Class_2(B, D): pass`\n",
        "* D. `class Class_1(C, D): pass` (V)"
      ],
      "metadata": {
        "id": "YUO2vLRabJ0D"
      }
    },
    {
      "cell_type": "code",
      "source": [
        "class A:\n",
        "  pass\n",
        "class B(A):\n",
        "  pass\n",
        "class C(A):\n",
        "  pass\n",
        "class D(B):\n",
        "  pass\n",
        "\n",
        "class Class_4(C, D): pass\n",
        "#can not put superclass in the first argument"
      ],
      "metadata": {
        "id": "aWYnY8kQbGmi"
      },
      "execution_count": null,
      "outputs": []
    },
    {
      "cell_type": "markdown",
      "source": [
        "95. What is the expected output of the following snippet?"
      ],
      "metadata": {
        "id": "1cvoxdr0c-mV"
      }
    },
    {
      "cell_type": "code",
      "source": [
        "class Upper:\n",
        "  def method(self):\n",
        "    return 'upper'\n",
        "class Lower(Upper):\n",
        "  def method(self):\n",
        "    return 'lower'\n",
        "Object = Upper()\n",
        "print(isinstance(Object, Lower), end = ' ')\n",
        "print(Object.method())"
      ],
      "metadata": {
        "colab": {
          "base_uri": "https://localhost:8080/"
        },
        "id": "aZMbmH0AcNnK",
        "outputId": "aaf669f7-320d-490f-f0de-621120833bf5"
      },
      "execution_count": null,
      "outputs": [
        {
          "output_type": "stream",
          "name": "stdout",
          "text": [
            "False upper\n"
          ]
        }
      ]
    },
    {
      "cell_type": "markdown",
      "source": [
        "96. Assuming that the code below has been placed inside a file named code.py and executed successfully, which of the  following expressions evaluate to `True`? (Choose two.)\n",
        "* A. `len(ClassB.__bases__) == 2`\n",
        "* B. `ClassA.__module__ == '__main__'` (V)\n",
        "* C. `__name__ == 'code.py'`\n",
        "* D. `str(Object) == 'Object'`"
      ],
      "metadata": {
        "id": "ytAquRuwdrgp"
      }
    },
    {
      "cell_type": "code",
      "source": [
        "class ClassA:\n",
        "  var = 1\n",
        "  def __init__(self, prop):\n",
        "    prop1 = prop2 = prop\n",
        "  def __str__(self):\n",
        "    return\n",
        "\n",
        "class ClassB(ClassA):\n",
        "  def __init__(self, prop):\n",
        "    prop3 = prop ** 2\n",
        "    super().__init__(prop)\n",
        "Object = ClassB(2)"
      ],
      "metadata": {
        "id": "1WCI4y7Ednk5"
      },
      "execution_count": null,
      "outputs": []
    },
    {
      "cell_type": "code",
      "source": [
        "len(ClassB.__bases__) == 2"
      ],
      "metadata": {
        "colab": {
          "base_uri": "https://localhost:8080/"
        },
        "id": "8SQnLSfkgFGj",
        "outputId": "602f9865-3ff3-4f67-a3b2-46fb784ead78"
      },
      "execution_count": null,
      "outputs": [
        {
          "output_type": "execute_result",
          "data": {
            "text/plain": [
              "False"
            ]
          },
          "metadata": {},
          "execution_count": 14
        }
      ]
    },
    {
      "cell_type": "code",
      "source": [
        "ClassA.__module__ == '__main__'"
      ],
      "metadata": {
        "colab": {
          "base_uri": "https://localhost:8080/"
        },
        "id": "bZEzWCUjgInc",
        "outputId": "06aa77a7-c045-4de6-edb0-161a158e5afe"
      },
      "execution_count": null,
      "outputs": [
        {
          "output_type": "execute_result",
          "data": {
            "text/plain": [
              "True"
            ]
          },
          "metadata": {},
          "execution_count": 16
        }
      ]
    },
    {
      "cell_type": "code",
      "source": [
        "__name__ == 'code.py'"
      ],
      "metadata": {
        "colab": {
          "base_uri": "https://localhost:8080/"
        },
        "id": "Ff353O94gQh5",
        "outputId": "424852b9-01ad-4706-8040-58b9dc62a342"
      },
      "execution_count": null,
      "outputs": [
        {
          "output_type": "execute_result",
          "data": {
            "text/plain": [
              "False"
            ]
          },
          "metadata": {},
          "execution_count": 15
        }
      ]
    },
    {
      "cell_type": "code",
      "source": [
        "str(Object) == 'Object'"
      ],
      "metadata": {
        "colab": {
          "base_uri": "https://localhost:8080/",
          "height": 217
        },
        "id": "X_ttVKWvgSkD",
        "outputId": "0190da45-4db6-46df-979c-751e590fe1ee"
      },
      "execution_count": null,
      "outputs": [
        {
          "output_type": "error",
          "ename": "TypeError",
          "evalue": "__str__ returned non-string (type NoneType)",
          "traceback": [
            "\u001b[0;31m---------------------------------------------------------------------------\u001b[0m",
            "\u001b[0;31mTypeError\u001b[0m                                 Traceback (most recent call last)",
            "\u001b[0;32m<ipython-input-17-82988733d72f>\u001b[0m in \u001b[0;36m<cell line: 1>\u001b[0;34m()\u001b[0m\n\u001b[0;32m----> 1\u001b[0;31m \u001b[0mstr\u001b[0m\u001b[0;34m(\u001b[0m\u001b[0mObject\u001b[0m\u001b[0;34m)\u001b[0m \u001b[0;34m==\u001b[0m \u001b[0;34m'Object'\u001b[0m\u001b[0;34m\u001b[0m\u001b[0;34m\u001b[0m\u001b[0m\n\u001b[0m",
            "\u001b[0;31mTypeError\u001b[0m: __str__ returned non-string (type NoneType)"
          ]
        }
      ]
    },
    {
      "cell_type": "markdown",
      "source": [
        "97. What is the expected behavior of the following code?"
      ],
      "metadata": {
        "id": "eh75gGWSgcmL"
      }
    },
    {
      "cell_type": "code",
      "source": [
        "class Class:\n",
        "  __Var = 0\n",
        "  def foo(self):\n",
        "    Class._Class__Var += 1\n",
        "    self.__prop = Class._Class__Var\n",
        "\n",
        "o1 = Class()\n",
        "o1.foo()\n",
        "o2 = Class()\n",
        "o2.foo()\n",
        "print(o2._Class__Var + o1._Class__prop)"
      ],
      "metadata": {
        "colab": {
          "base_uri": "https://localhost:8080/"
        },
        "id": "T2B4o07agTPS",
        "outputId": "84b042ee-375d-4cb2-9a11-177a47c5f6eb"
      },
      "execution_count": null,
      "outputs": [
        {
          "output_type": "stream",
          "name": "stdout",
          "text": [
            "3\n"
          ]
        }
      ]
    },
    {
      "cell_type": "markdown",
      "source": [
        "98. What is the expected behavior of the following code?"
      ],
      "metadata": {
        "id": "1suT83FYhJ1i"
      }
    },
    {
      "cell_type": "code",
      "source": [
        "class Class:\n",
        "  Variable = 0\n",
        "  def __init__(self):\n",
        "    self.value = 0\n",
        "\n",
        "object_1 = Class()\n",
        "object_1.Variable += 1\n",
        "object_2 = Class()\n",
        "object_2.value += 1\n",
        "print(object_2.Variable + object_1.value)"
      ],
      "metadata": {
        "colab": {
          "base_uri": "https://localhost:8080/"
        },
        "id": "BeuDqDm3hDor",
        "outputId": "2098b7e5-1fac-407e-cbd6-21215e07ba6b"
      },
      "execution_count": null,
      "outputs": [
        {
          "output_type": "stream",
          "name": "stdout",
          "text": [
            "0\n"
          ]
        }
      ]
    },
    {
      "cell_type": "markdown",
      "source": [
        "99. What is true about Object-Oriented Programming in Python? (Choose two.)\n",
        "* A. each object of the same class can have a different set of methods\n",
        "* B. a subclass is usually more specialized than its superclass (V)\n",
        "* C. if a real-life object can be describe with a set of adjectives, they may reflect a Python object method\n",
        "* D. the same class can be used many times to build a number of objects (V)"
      ],
      "metadata": {
        "id": "BMUa8dVXiGEA"
      }
    },
    {
      "cell_type": "markdown",
      "source": [
        "100. What is true about Python class constructors? (Choose two.)\n",
        "* A. there can be more than more constructor in a Python class\n",
        "* B. the constructor must return a value other then `None`\n",
        "* C. the constructor is a method named `__init__` (V)\n",
        "* D. the constructor must have at least one parameter (V)"
      ],
      "metadata": {
        "id": "79euYF7ojFy2"
      }
    },
    {
      "cell_type": "markdown",
      "source": [
        "101. Assuming that the following piece of code has been executed successfully, which of the expressions evaluate to `True`? (Choose two.)\n",
        "* A. `isistance(obj_b, A)`\n",
        "* B. `A.VarA == 1`\n",
        "* C. `obj_a is obj_aa`\n",
        "* D. `B.VarA == 1`"
      ],
      "metadata": {
        "id": "no7N0iOzj0So"
      }
    },
    {
      "cell_type": "code",
      "source": [
        "class A:\n",
        "  VarA = 1\n",
        "  def __init___(self) -> None:\n",
        "    self.prop_a = 1\n",
        "\n",
        "class B(A):\n",
        "  VarA = 2\n",
        "  def __init__(self) -> None:\n",
        "    self.prop_b = 2\n",
        "\n",
        "obj_a = A()\n",
        "obj_aa = A()\n",
        "obj_b = B()\n",
        "obj_bb = obj_b"
      ],
      "metadata": {
        "id": "gBZCOpVJhxK0"
      },
      "execution_count": null,
      "outputs": []
    },
    {
      "cell_type": "code",
      "source": [],
      "metadata": {
        "id": "ULbEEgT6knfr"
      },
      "execution_count": null,
      "outputs": []
    }
  ]
}