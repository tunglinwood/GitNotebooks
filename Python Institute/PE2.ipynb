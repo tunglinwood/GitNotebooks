{
  "nbformat": 4,
  "nbformat_minor": 0,
  "metadata": {
    "colab": {
      "provenance": [],
      "authorship_tag": "ABX9TyNg1IhpQyW2gCzZh5EsIKP3",
      "include_colab_link": true
    },
    "kernelspec": {
      "name": "python3",
      "display_name": "Python 3"
    },
    "language_info": {
      "name": "python"
    }
  },
  "cells": [
    {
      "cell_type": "markdown",
      "metadata": {
        "id": "view-in-github",
        "colab_type": "text"
      },
      "source": [
        "<a href=\"https://colab.research.google.com/github/tunglinwood/GitNotebooks/blob/main/PE2.ipynb\" target=\"_parent\"><img src=\"https://colab.research.google.com/assets/colab-badge.svg\" alt=\"Open In Colab\"/></a>"
      ]
    },
    {
      "cell_type": "markdown",
      "source": [
        "# 1.1 Introduction to Modules in Python\n",
        "1. If you want to import a module as a whole, you can do it using the `import module_name` statement. You are allowed to import more than one module at once using a comma-separated list. For example:"
      ],
      "metadata": {
        "id": "xOjFAjylA7un"
      }
    },
    {
      "cell_type": "code",
      "source": [
        "import mod1\n",
        "import mod2, mod3, mod4"
      ],
      "metadata": {
        "id": "GiRSUpWzDGaC"
      },
      "execution_count": null,
      "outputs": []
    },
    {
      "cell_type": "markdown",
      "source": [
        "although the latter form is not recommended due to stylistic reasons, and it's better and prettier to express the same intention in more a verbose and explicit form, such as:"
      ],
      "metadata": {
        "id": "akCDgrGyDDJe"
      }
    },
    {
      "cell_type": "code",
      "source": [
        "import mod2\n",
        "import mod3\n",
        "import mod4\n"
      ],
      "metadata": {
        "id": "OqokfPEgC_ZW"
      },
      "execution_count": null,
      "outputs": []
    },
    {
      "cell_type": "markdown",
      "source": [
        "2. If a module is imported in the above manner and you want to access any of its entities, you need to prefix the entity's name using **dot notation**. For example:"
      ],
      "metadata": {
        "id": "wOI7Lpp7C7YU"
      }
    },
    {
      "cell_type": "code",
      "source": [
        "import my_module\n",
        "\n",
        "result = my_module.my_function(my_module.my_data)"
      ],
      "metadata": {
        "id": "S1b--JrvC4Mx"
      },
      "execution_count": null,
      "outputs": []
    },
    {
      "cell_type": "markdown",
      "source": [
        "The snippet makes use of two entities coming from the `my_module` module: a function named `my_function()` and a variable named `my_data`. Both names **must** be prefixed by `my_module`. None of the imported entity names conflicts with the identical names existing in your code's namespace.\n",
        "\n",
        "\n",
        "3. You are allowed not only to import a module as a whole, but to import only individual entities from it. In this case, the imported entities **must not** be prefixed when used. For example:"
      ],
      "metadata": {
        "id": "2MtdgGfxChYL"
      }
    },
    {
      "cell_type": "code",
      "source": [
        "from module import my_function, my_data\n",
        "\n",
        "result = my_function(my_data)"
      ],
      "metadata": {
        "id": "-LNx5_I5CeVB"
      },
      "execution_count": null,
      "outputs": []
    },
    {
      "cell_type": "markdown",
      "source": [
        "The above way - despite its attractiveness - is not recommended because of the danger of causing conflicts with names derived from importing the code's namespace.\n",
        "\n",
        "4. The most general form of the above statement allows you to import **all entities** offered by a module:\n",
        "\n",
        "Note: this import's variant is not recommended due to the same reasons as previously (the threat of a naming conflict is even more dangerous here)."
      ],
      "metadata": {
        "id": "nQXzNhhkCNBQ"
      }
    },
    {
      "cell_type": "code",
      "source": [
        "from my_module import *\n",
        "\n",
        "result = my_function(my_data)"
      ],
      "metadata": {
        "id": "WucTYgHJCF2F"
      },
      "execution_count": null,
      "outputs": []
    },
    {
      "cell_type": "markdown",
      "source": [
        "5. You can change the name of the imported entity \"on the fly\" by using the `as` phrase of the `import`. For example:"
      ],
      "metadata": {
        "id": "8opb0lgFBe6t"
      }
    },
    {
      "cell_type": "code",
      "source": [
        "from module import my_function as fun, my_data as dat\n",
        "\n",
        "result = fun(dat)"
      ],
      "metadata": {
        "id": "rNgvjuUYBapQ"
      },
      "execution_count": null,
      "outputs": []
    },
    {
      "cell_type": "markdown",
      "source": [
        "# 1.2 Selected Python Modules (Math, Random, Platform)\n",
        "\n",
        "1. A function named `dir()` can show you a list of the entities contained inside an imported module. For example:\n"
      ],
      "metadata": {
        "id": "6zuyZSMJDQN7"
      }
    },
    {
      "cell_type": "code",
      "source": [
        "import os\n",
        "dir(os)"
      ],
      "metadata": {
        "id": "ZinIRppSEDkF"
      },
      "execution_count": null,
      "outputs": []
    },
    {
      "cell_type": "markdown",
      "source": [
        "prints out the list of all the `os` module's facilities you can use in your code.\n",
        "\n",
        "2. The `math` module couples more than 50 symbols (functions and constants) that perform mathematical operations (like `sine()`, `pow()`, `factorial()`) or providing important values (like **π** and the Euler symbol **e**).\n",
        "\n",
        "3. The `random` module groups more than 60 entities designed to help you use pseudo-random numbers. Don't forget the prefix \"random\", as there is no such thing as a real random number when it comes to generating them using the computer's algorithms.\n",
        "\n",
        "4. The `platform` module contains about 70 functions which let you dive into the underlaying layers of the OS and hardware. Using them allows you to get to know more about the environment in which your code is executed.\n",
        "\n",
        "5. **Python Module Index** (https://docs.python.org/3/py-modindex.html is a community-driven directory of modules available in the Python universe. If you want to find a module fitting your needs, start your search there."
      ],
      "metadata": {
        "id": "d9_U3t3QEAky"
      }
    },
    {
      "cell_type": "markdown",
      "source": [
        "# 1.3 Modules and Packages\n",
        "1. While a **module** is designed to couple together some related entities (functions, variables, constants, etc.), a **package** is a container which enables the coupling of several related modules under one common name. Such a container can be distributed as-is (as a batch of files deployed in a directory sub-tree) or it can be packed inside a zip file.\n",
        "\n",
        "\n",
        "2. During the very first import of the actual module, Python translates its source code into the **semi-compiled** format stored inside the **pyc** files, and deploys these files into the `__pycache__` directory located in the module's home directory.\n",
        "\n",
        "\n",
        "3. If you want to instruct your module's user that a particular entity should be treated as **private** (i.e. not to be explicitly used outside the module) you can mark its name with either the `_` or `__` prefix. Don't forget that this is only a recommendation, not an order.\n",
        "\n",
        "\n",
        "4. The names shabang, shebang, hasbang, poundbang, and hashpling describe the digraph written as `#!`, used to instruct Unix-like OSs how the Python source file should be launched. This convention has no effect under MS Windows.\n",
        "\n",
        "\n",
        "5. If you want convince Python that it should take into account a non-standard package's directory, its name needs to be inserted/appended into/to the import directory list stored in the `path` variable contained in the `sys` module.\n",
        "\n",
        "\n",
        "6. A Python file named `__init__.py` is implicitly run when a package containing it is subject to import, and is used to initialize a package and/or its sub-packages (if any). The file may be empty, but must not be absent."
      ],
      "metadata": {
        "id": "e1mHTkiNDsU1"
      }
    },
    {
      "cell_type": "markdown",
      "source": [
        "# 1.4 Python Package Installer (PIP)\n",
        "1. A **repository** (or **repo** for short) designed to collect and share free Python code exists and works under the name **Python Package Index (PyPI)** although it's also likely that you come across a very niche name **The Cheese Shop**. The Shop's website is available at https://pypi.org/.\n",
        "\n",
        "\n",
        "2. To make use of The Cheese Shop the specialized tool has been created and its name is **pip** (pip installs packages while pip stands for... ok, don't mind). As pip may not be deployed as a part of standard Python installation, it is possible that you will need to install it manually. Pip is a console tool.\n",
        "\n",
        "\n",
        "3. To check pip's version one the following commands should be issued:"
      ],
      "metadata": {
        "id": "k26I3tWrDnmB"
      }
    },
    {
      "cell_type": "code",
      "source": [
        "!pip --version"
      ],
      "metadata": {
        "id": "E6ytr06JGK0d"
      },
      "execution_count": null,
      "outputs": []
    },
    {
      "cell_type": "markdown",
      "source": [
        "or"
      ],
      "metadata": {
        "id": "xuOM2We0GJEN"
      }
    },
    {
      "cell_type": "code",
      "source": [
        "!pip3 --version"
      ],
      "metadata": {
        "id": "lY86E-bxGHKV"
      },
      "execution_count": null,
      "outputs": []
    },
    {
      "cell_type": "markdown",
      "source": [
        "Check yourself which of these works for you in your OS' environment.\n",
        "\n",
        "\n",
        "4. List of main **pip** activities looks as follows:\n",
        "\n",
        "* `pip help operation` - shows brief pip's description;\n",
        "* `pip list` - shows list of currently installed packages;\n",
        "* `pip show package_name` - shows package_name info including package's dependencies;\n",
        "* `pip search anystring` - searches through PyPI directories in order to find packages which name contains anystring;\n",
        "* `pip install name` - installs name system-wide (expect problems when you don't have administrative rights);\n",
        "* `pip install --user name` - install name for you only; no other your platform's user will be able to use it;\n",
        "* `pip install -U name` - updates previously installed package;\n",
        "* `pip uninstall name` - uninstalls previously installed package;"
      ],
      "metadata": {
        "id": "W1uV67igFeCk"
      }
    },
    {
      "cell_type": "code",
      "source": [],
      "metadata": {
        "id": "I_ybwPWIGl78"
      },
      "execution_count": null,
      "outputs": []
    },
    {
      "cell_type": "markdown",
      "source": [
        "# 2.1 Characters, Strings, Computerrs\n",
        "\n",
        "1. Computers store characters as numbers. There is more than one possible way of encoding characters, but only some of them gained worldwide popularity and are commonly used in IT: these are **ASCII** (used mainly to encode the Latin alphabet and some of its derivates) and **UNICODE** (able to encode virtually all alphabets being used by humans).\n",
        "\n",
        "\n",
        "2. A number corresponding to a particular character is called a **codepoint**.\n",
        "\n",
        "\n",
        "3. UNICODE uses different ways of encoding when it comes to storing the characters using files or computer memory: two of them are **UCS-4** and **UTF-8** (the latter is the most common as it wastes less memory space)."
      ],
      "metadata": {
        "id": "r_LHN7EaGizi"
      }
    },
    {
      "cell_type": "markdown",
      "source": [
        "#2.2 The Nature of Strings in Python\n",
        "1. Python strings are **immutable sequences** and can be indexed, sliced, and iterated like any other sequence, as well as being subject to the `in` and `not in` operators. There are two kinds of strings in Python:\n",
        "\n",
        "* **one-line** strings, which cannot cross line boundaries – we denote them using either apostrophes (`'string'`) or quotes (`\"string\"`)\n",
        "* **multi-line** strings, which occupy more than one line of source code, delimited by trigraphs:"
      ],
      "metadata": {
        "id": "0wQb6EzvHAbI"
      }
    },
    {
      "cell_type": "code",
      "source": [
        "'''\n",
        "string\n",
        "'''"
      ],
      "metadata": {
        "id": "ZPlxvuXlITyH"
      },
      "execution_count": null,
      "outputs": []
    },
    {
      "cell_type": "markdown",
      "source": [
        "or"
      ],
      "metadata": {
        "id": "YWz6G_hmIRzA"
      }
    },
    {
      "cell_type": "code",
      "source": [
        "\"\"\"\n",
        "string\n",
        "\"\"\""
      ],
      "metadata": {
        "id": "yDvXt8fbIM00"
      },
      "execution_count": null,
      "outputs": []
    },
    {
      "cell_type": "markdown",
      "source": [
        "2. The length of a string is determined by the `len()` function. The escape character (`\\`) is not counted. For example:"
      ],
      "metadata": {
        "id": "yAuSpmAEIGbZ"
      }
    },
    {
      "cell_type": "code",
      "source": [
        "print(len(\"\\n\\n\"))"
      ],
      "metadata": {
        "id": "ert-4emRIDM5"
      },
      "execution_count": null,
      "outputs": []
    },
    {
      "cell_type": "markdown",
      "source": [
        "outputs `2`.\n",
        "\n",
        "3. Strings can be **concatenated** using the `+` operator, and **replicated** using the `*` operator. For example:"
      ],
      "metadata": {
        "id": "vOWmZfDWH4sw"
      }
    },
    {
      "cell_type": "code",
      "source": [
        "asterisk = '*'\n",
        "plus = \"+\"\n",
        "decoration = (asterisk + plus) * 4 + asterisk\n",
        "print(decoration)"
      ],
      "metadata": {
        "id": "-yUbkc8cH0wK"
      },
      "execution_count": null,
      "outputs": []
    },
    {
      "cell_type": "markdown",
      "source": [
        "outputs `*+*+*+*+*`.\n",
        "\n",
        "4. The pair of functions `chr()` and `ord()` can be used to create a character using its codepoint, and to determine a codepoint corresponding to a character. Both of the following expressions are always true:"
      ],
      "metadata": {
        "id": "LYht2vZfHlfr"
      }
    },
    {
      "cell_type": "code",
      "source": [
        "chr(ord(character)) == character\n",
        "ord(chr(codepoint)) == codepoint"
      ],
      "metadata": {
        "id": "cz6pjuO-HgB3"
      },
      "execution_count": null,
      "outputs": []
    },
    {
      "cell_type": "markdown",
      "source": [
        "5. Some other functions that can be applied to strings are:\n",
        "\n",
        "* `list()` – create a list consisting of all the string's characters;\n",
        "* `max()` – finds the character with the maximal codepoint;\n",
        "* `min()` – finds the character with the minimal codepoint.\n",
        "\n",
        "6. The method named `index()` finds the index of a given substring inside the string."
      ],
      "metadata": {
        "id": "j7eqkTD9HVZc"
      }
    },
    {
      "cell_type": "markdown",
      "source": [
        "# 2.3 String Methods\n",
        "1. Some of the methods offered by strings are:\n",
        "\n",
        "* `capitalize()` – changes all string letters to capitals;\n",
        "* `center()` – centers the string inside the field of a known length;\n",
        "* `count()` – counts the occurrences of a given character;\n",
        "* `join()` – joins all items of a tuple/list into one string;\n",
        "* `lower()` – converts all the string's letters into lower-case letters;\n",
        "* `lstrip()` – removes the white characters from the beginning of the string;\n",
        "* `replace()` – replaces a given substring with another;\n",
        "* `rfind()` – finds a substring starting from the end of the string;\n",
        "* `rstrip()` – removes the trailing white spaces from the end of the string;\n",
        "* `split()` – splits the string into a substring using a given delimiter;\n",
        "* `strip()` – removes the leading and trailing white spaces;\n",
        "* `swapcase()` – swaps the letters' cases (lower to upper and vice versa)\n",
        "* `title()` – makes the first letter in each word upper-case;\n",
        "* `upper()` – converts all the string's letter into upper-case letters.\n",
        "\n",
        "2. String content can be determined using the following methods (all of them return Boolean values):\n",
        "\n",
        "* `endswith()` – does the string end with a given substring?\n",
        "* `isalnum()` – does the string consist only of letters and digits?\n",
        "* `isalpha()` – does the string consist only of letters?\n",
        "* `islower()` – does the string consists only of lower-case letters?\n",
        "* `isspace()` – does the string consists only of white spaces?\n",
        "* `isupper()` – does the string consists only of upper-case letters?\n",
        "* `startswith()` – does the string begin with a given substring?"
      ],
      "metadata": {
        "id": "_TRs2VC7I7cC"
      }
    },
    {
      "cell_type": "markdown",
      "source": [
        "# 2.4 Strings in Action And List Methods\n",
        "1. Strings can be compared to strings using general comparison operators, but comparing them to numbers gives no reasonable result, because **no string can be equal** to any number. For example:\n",
        "\n",
        "* `string == number` is always `False`;\n",
        "* `string != number` is always `True`;\n",
        "* `string >= number` always **raises an exception**.\n",
        "\n",
        "2. Sorting lists of strings can be done by:\n",
        "\n",
        "* a function named `sorted()`, creating a new, sorted list;\n",
        "* a method named `sort()`, which sorts the list in situ\n",
        "\n",
        "3. A number can be converted to a string using the `str()` function.\n",
        "\n",
        "4. A string can be converted to a number (although not every string) using either the `int()` or `float()` function. The conversion fails if a string doesn't contain a valid number image (an exception is raised then)."
      ],
      "metadata": {
        "id": "PEsJAbQ7NeER"
      }
    },
    {
      "cell_type": "markdown",
      "source": [
        "# 2.5 Strings And The Four Simlpe Programs\n",
        "\n",
        "1. Strings are key tools in modern data processing, as most useful data are actually strings. For example, using a web search engine (which seems quite trivial these days) utilizes extremely complex and complicated string processing, involving unimaginable amounts of data.\n",
        "\n",
        "2. Comparing strings in a strict way (as Python does) can be very unsatisfactory when it comes to advanced searches (e.g. during extensive database queries). Responding to this demand, a number of fuzzy string comparison algorithms has been created and implemented. These algorithms are able to find strings which aren't equal in the Python sense, but are **similar**.\n",
        "\n",
        "One such concept is the **Hamming distance**, which is used to determine the similarity of two strings. If this problem interests you, you can find out more about it here: https://en.wikipedia.org/wiki/Hamming_distance. Another solution of the same kind, but based on a different assumption, is the **Levenshtein distance** described here: https://en.wikipedia.org/wiki/Levenshtein_distance.\n",
        "\n",
        "\n",
        "3. Another way of comparing strings is finding their acoustic similarity, which means a process leading to determine if two strings sound similar (like \"raise\" and \"race\"). Such a similarity has to be established for every language (or even dialect) separately.\n",
        "\n",
        "An algorithm used to perform such a comparison for the English language is called **Soundex** and was invented – you won't believe – in 1918. You can find out more about it here: https://en.wikipedia.org/wiki/Soundex.\n",
        "\n",
        "\n",
        "4. Due to limited native float and integer data precision, it's sometimes reasonable to store and process huge numeric values as strings. This is the technique Python uses when you force it to operate on an integer number consisting of a very large number of digits.\n",
        "\n"
      ],
      "metadata": {
        "id": "PVq2zsfKOmR-"
      }
    },
    {
      "cell_type": "markdown",
      "source": [
        "# 2.6 Errors - The Programmer's Daily Bread\n",
        "1. An exception is an event during program execution caused by an abnormal situation. The exception should be handled to avoid the termination of the program. The part of your code that is suspected of being the source of the exception should be put inside the `try` branch.\n",
        "\n",
        "When the exception happens, the execution of the code is not terminated, but instead jumps into the `except` branch. This is the place where the handling of the exception should take place. The general scheme for such a construction looks as follows:\n",
        "\n",
        "\n",
        "\n",
        "\n",
        "\n",
        "\n",
        "\n"
      ],
      "metadata": {
        "id": "omSGAGZ2Pp8c"
      }
    },
    {
      "cell_type": "code",
      "source": [
        ":\n",
        "# The code that always runs smoothly.\n",
        ":\n",
        "try:\n",
        "    :\n",
        "    # Risky code.\n",
        "    :\n",
        "except:\n",
        "    :\n",
        "    # Crisis management takes place here.\n",
        "    :\n",
        ":\n",
        "# Back to normal.\n",
        ":"
      ],
      "metadata": {
        "id": "Q5B65AACQvvs"
      },
      "execution_count": null,
      "outputs": []
    },
    {
      "cell_type": "markdown",
      "source": [
        "2. If you need to handle more than one exception coming from the same try branch, you can add more than one except branch, but you have to label them with different exception names, like this:"
      ],
      "metadata": {
        "id": "B-ChWoOzQstp"
      }
    },
    {
      "cell_type": "code",
      "source": [
        ":\n",
        "# The code that always runs smoothly.\n",
        ":\n",
        "try:\n",
        "    :\n",
        "    # Risky code.\n",
        "    :\n",
        "except Except_1:\n",
        "    # Crisis management takes place here.\n",
        "except Except_2:\n",
        "    # We save the world here.\n",
        ":\n",
        "# Back to normal.\n",
        ":"
      ],
      "metadata": {
        "id": "fpNcviAwQonE"
      },
      "execution_count": null,
      "outputs": []
    },
    {
      "cell_type": "markdown",
      "source": [
        "At most, one of the `except` branches is executed – none of the branches is performed when the raised exception doesn't match any of the specified exceptions.\n",
        "\n",
        "\n",
        "3. You cannot add more than one anonymous (unnamed) `except` branch after the named ones."
      ],
      "metadata": {
        "id": "W-FkPxKLQFh0"
      }
    },
    {
      "cell_type": "code",
      "source": [
        ":\n",
        "# The code that always runs smoothly.\n",
        ":\n",
        "try:\n",
        "    :\n",
        "    # Risky code.\n",
        "    :\n",
        "except Except_1:\n",
        "    # Crisis management takes place here.\n",
        "except Except_2:\n",
        "    # We save the world here.\n",
        "except:\n",
        "    # All other issues fall here.\n",
        ":\n",
        "# Back to normal.\n",
        ":"
      ],
      "metadata": {
        "id": "QepjQeccP-m3"
      },
      "execution_count": null,
      "outputs": []
    },
    {
      "cell_type": "markdown",
      "source": [
        "# 2.7 The Hierarchy of Exceptions\n",
        "1. You cannot add more than one anonymous (unnamed) `except` branch after the named ones.\n",
        "\n",
        "\n",
        "\n",
        "\n",
        "\n",
        "\n"
      ],
      "metadata": {
        "id": "gnwlLk95RDd4"
      }
    },
    {
      "cell_type": "code",
      "source": [
        ":\n",
        "# The code that always runs smoothly.\n",
        ":\n",
        "try:\n",
        "    :\n",
        "    # Risky code.\n",
        "    :\n",
        "except Except_1:\n",
        "    # Crisis management takes place here.\n",
        "except Except_2:\n",
        "    # We save the world here.\n",
        "except:\n",
        "    # All other issues fall here.\n",
        ":\n",
        "# Back to normal.\n",
        ":"
      ],
      "metadata": {
        "id": "MhObbcBuSzea"
      },
      "execution_count": null,
      "outputs": []
    },
    {
      "cell_type": "markdown",
      "source": [
        "2. All the predefined Python exceptions form a hierarchy, i.e. some of them are more general (the one named `BaseException` is the most general one) while others are more or less concrete (e.g. `IndexError` is more concrete than `LookupError`).\n",
        "\n",
        "You should avoid placing more general exceptions before more specific ones inside the same `except` branche sequence. For example, you can do this:"
      ],
      "metadata": {
        "id": "hBvcwuMJSgub"
      }
    },
    {
      "cell_type": "code",
      "source": [
        "try:\n",
        "    # Risky code.\n",
        "except IndexError:\n",
        "    # Taking care of mistreated lists\n",
        "except LookupError:\n",
        "    # Dealing with other erroneous lookups"
      ],
      "metadata": {
        "id": "Dl81KO5FSW5y"
      },
      "execution_count": null,
      "outputs": []
    },
    {
      "cell_type": "markdown",
      "source": [
        "but don't do that (unless you're absolutely sure that you want some part of your code to be useless)"
      ],
      "metadata": {
        "id": "MK4S4DkWSGXO"
      }
    },
    {
      "cell_type": "code",
      "source": [
        "try:\n",
        "    # Risky code.\n",
        "except LookupError:\n",
        "    # Dealing with erroneous lookups\n",
        "except IndexError:\n",
        "    # You'll never get here"
      ],
      "metadata": {
        "id": "IuTlEbzcRnC0"
      },
      "execution_count": null,
      "outputs": []
    },
    {
      "cell_type": "markdown",
      "source": [
        "3. The Python statement raise ExceptionName can raise an exception on demand. The same statement, but lacking ExceptionName, can be used inside the `try` branch **only**, and raises the same exception which is currently being handled.\n",
        "\n",
        "4. The Python statement `assert expression` evaluates the expression and raises the `AssertError` exception when the expression is equal to zero, an empty string, or `None`. You can use it to protect some critical parts of your code from devastating data."
      ],
      "metadata": {
        "id": "f-AUpEm9RhMg"
      }
    },
    {
      "cell_type": "markdown",
      "source": [
        "# 2.8 Some Useful Exceptions\n",
        "1. Some abstract built-in Python exceptions are:\n",
        "\n",
        "* `ArithmeticError`,\n",
        "* `BaseException`,\n",
        "* `LookupError`.\n",
        "\n",
        "2. Some concrete built-in Python exceptions are:\n",
        "\n",
        "* `AssertionError`,\n",
        "* `ImportError`,\n",
        "* `IndexError`,\n",
        "* `KeyboardInterrupt`,\n",
        "* `KeyError`,\n",
        "* `MemoryError`,\n",
        "* `OverflowError`.\n"
      ],
      "metadata": {
        "id": "ZsNKIxs0TIcj"
      }
    },
    {
      "cell_type": "markdown",
      "source": [
        "# 3.1 The Foundation of OOP (Classes, Objects, Attributes)\n",
        "1. A **class** is an idea (more or less abstract) which can be used to create a number of incarnations – such an incarnation is called an **object**.\n",
        "\n",
        "\n",
        "2. When a class is derived from another class, their relation is named **inheritance**. The class which derives from the other class is named a **subclass**. The second side of this relation is named **superclass**. A way to present such a relation is an **inheritance diagram**, where:\n",
        "\n",
        "* superclasses are always presented **above** their subclasses;\n",
        "* relations between classes are shown as arrows directed **from the subclass toward its superclass**.\n",
        "\n",
        "3. Objects are equipped with:\n",
        "\n",
        "* a **name** which identifies them and allows us to distinguish between them;\n",
        "* a set of **properties** (the set can be empty)\n",
        "* a set of **methods** (can be empty, too)\n",
        "\n",
        "4. To define a Python `class`, you need to use the class keyword. For example:"
      ],
      "metadata": {
        "id": "Z9IszCwGUC_p"
      }
    },
    {
      "cell_type": "code",
      "source": [
        "class This_Is_A_Class:\n",
        "     pass"
      ],
      "metadata": {
        "id": "nQfJLl9uUeBC"
      },
      "execution_count": null,
      "outputs": []
    },
    {
      "cell_type": "markdown",
      "source": [
        "5. To create an object of the previously defined class, you need to use the class as if it were a function. For example:"
      ],
      "metadata": {
        "id": "JzJC1LpYUb0V"
      }
    },
    {
      "cell_type": "code",
      "source": [
        "this_is_an_object = This_Is_A_Class()"
      ],
      "metadata": {
        "id": "_F1Tugg0UY85"
      },
      "execution_count": null,
      "outputs": []
    },
    {
      "cell_type": "markdown",
      "source": [
        "#3.2 Stack: The Procedural VS OOP Approach\n",
        "1. A **stack** is an object designed to store data using the **LIFO** model. The stack usually performs at least two operations, named `push()` and `pop()`.\n",
        "\n",
        "\n",
        "2. Implementing the stack in a procedural model raises several problems which can be solved by the techniques offered by **OOP** (Object Oriented Programming):\n",
        "\n",
        "\n",
        "3. A class **method** is actually a function declared inside the class and able to access all the class's components.\n",
        "\n",
        "\n",
        "4. The part of the Python class responsible for creating new objects is called the **constructor**, and it's implemented as a method of the name `__init__`.\n",
        "\n",
        "\n",
        "5. Each class method declaration must contain at least one parameter (always the first one) usually referred to as `self`, and is used by the objects to identify themselves.\n",
        "\n",
        "\n",
        "6. If we want to hide any of a class's components from the outside world, we should start its name with `__`. Such components are called **private**."
      ],
      "metadata": {
        "id": "vCqUHa4KVK6O"
      }
    },
    {
      "cell_type": "markdown",
      "source": [
        "#3.3 Properties (Instance Variables, Class Variables, Attributes)\n",
        "1. An **instance variable** is a property whose existence depends on the creation of an object. Every object can have a different set of instance variables.\n",
        "\n",
        "Moreover, they can be freely added to and removed from objects during their lifetime. All object instance variables are stored inside a dedicated dictionary named `__dict__`, contained in every object separately.\n",
        "\n",
        "\n",
        "2. An instance variable can be private when its name starts with `__`, but don't forget that such a property is still accessible from outside the class using a **mangled name **constructed as `_ClassName__PrivatePropertyName`.\n",
        "\n",
        "\n",
        "3. A **class variable** is a property which exists in exactly one copy, and doesn't need any created object to be accessible. Such variables are not shown as `__dict__` content.\n",
        "\n",
        "All a class's class variables are stored inside a dedicated dictionary named `__dict__`, contained in every class separately.\n",
        "\n",
        "\n",
        "4. A function named `hasattr()` can be used to determine if any object/class contains a specified property.\n",
        "\n",
        "For example:"
      ],
      "metadata": {
        "id": "RqeZqAx5VyU0"
      }
    },
    {
      "cell_type": "code",
      "source": [
        "class Sample:\n",
        "    gamma = 0 # Class variable.\n",
        "    def __init__(self):\n",
        "        self.alpha = 1 # Instance variable.\n",
        "        self.__delta = 3 # Private instance variable.\n",
        "\n",
        "\n",
        "obj = Sample()\n",
        "obj.beta = 2  # Another instance variable (existing only inside the \"obj\" instance.)\n",
        "print(obj.__dict__)"
      ],
      "metadata": {
        "colab": {
          "base_uri": "https://localhost:8080/"
        },
        "id": "JCgeEO33WGQl",
        "outputId": "c595c053-996d-4913-9e38-a8bba2027506"
      },
      "execution_count": null,
      "outputs": [
        {
          "output_type": "stream",
          "name": "stdout",
          "text": [
            "{'alpha': 1, '_Sample__delta': 3, 'beta': 2}\n"
          ]
        }
      ]
    },
    {
      "cell_type": "markdown",
      "source": [
        "The code outputs:"
      ],
      "metadata": {
        "id": "KH9W0Us2WDmi"
      }
    },
    {
      "cell_type": "code",
      "source": [
        "{'alpha': 1, '_Sample__delta': 3, 'beta': 2}"
      ],
      "metadata": {
        "id": "DexRXSAYV-Cl"
      },
      "execution_count": null,
      "outputs": []
    },
    {
      "cell_type": "markdown",
      "source": [
        "# 3.4 Methods (Class And Object Methods, Constructors, Parameters, Properties)\n",
        "1. A method is a function embedded inside a class. The first (or only) parameter of each method is usually named `self`, which is designed to identify the object for which the method is invoked in order to access the object's properties or invoke its methods.\n",
        "\n",
        "\n",
        "2. If a class contains a **constructor** (a method named `__init__`) it cannot return any value and cannot be invoked directly.\n",
        "\n",
        "\n",
        "3. All classes (but not objects) contain a property named `__name__`, which stores the name of the class. Additionally, a property named `__module__` stores the name of the module in which the class has been declared, while the property named `__bases__` is a tuple containing a class's superclasses.\n",
        "\n",
        "For example:"
      ],
      "metadata": {
        "id": "Z7nrBo0LWuDN"
      }
    },
    {
      "cell_type": "code",
      "source": [
        "class Sample:\n",
        "    def __init__(self):\n",
        "        self.name = Sample.__name__\n",
        "    def myself(self):\n",
        "        print(\"My name is \" + self.name + \" living in a \" + Sample.__module__)\n",
        "\n",
        "\n",
        "obj = Sample()\n",
        "obj.myself()"
      ],
      "metadata": {
        "id": "GmZeZyjMXZ9B"
      },
      "execution_count": null,
      "outputs": []
    },
    {
      "cell_type": "markdown",
      "source": [
        "The code outputs:"
      ],
      "metadata": {
        "id": "fpWNzcmZXYJr"
      }
    },
    {
      "cell_type": "code",
      "source": [
        "My name is Sample living in a __main__"
      ],
      "metadata": {
        "id": "x-n9GPfEXWKp"
      },
      "execution_count": null,
      "outputs": []
    },
    {
      "cell_type": "markdown",
      "source": [
        "# 3.5 Inheritence (Functions, Methods, Class hierarchies, Polymorphism, Composition, Single VS Multiple Inheritance)\n",
        "1. A method named `__str__()` is responsible for **converting an object's contents into a (more or less) readable string**. You can redefine it if you want your object to be able to present itself in a more elegant form. For example:"
      ],
      "metadata": {
        "id": "MUgqWojLX4G2"
      }
    },
    {
      "cell_type": "code",
      "source": [
        "class Mouse:\n",
        "    def __init__(self, name):\n",
        "        self.my_name = name\n",
        "\n",
        "    def __str__(self):\n",
        "        return self.my_name\n",
        "\n",
        "the_mouse = Mouse('mickey')\n",
        "print(the_mouse)  # Prints \"mickey\"."
      ],
      "metadata": {
        "id": "EP79GzBeZ95n"
      },
      "execution_count": null,
      "outputs": []
    },
    {
      "cell_type": "markdown",
      "source": [
        "2. A function named `issubclass(Class_1, Class_2)` is able to determine if `Class_1` is a **subclass** of `Class_2`. For example:"
      ],
      "metadata": {
        "id": "8gsYMtvDZ26u"
      }
    },
    {
      "cell_type": "code",
      "source": [
        "class Mouse:\n",
        "    pass\n",
        "\n",
        "class LabMouse(Mouse):\n",
        "    pass\n",
        "\n",
        "print(issubclass(Mouse, LabMouse), issubclass(LabMouse, Mouse))  # Prints \"False True\""
      ],
      "metadata": {
        "id": "HmIQCUwKZvWn"
      },
      "execution_count": null,
      "outputs": []
    },
    {
      "cell_type": "markdown",
      "source": [
        "3. A function named `isinstance(Object, Class)` checks if an object **comes from an indicated class**. For example:"
      ],
      "metadata": {
        "id": "PQc7fiVSZoAE"
      }
    },
    {
      "cell_type": "code",
      "source": [
        "class Mouse:\n",
        "    pass\n",
        "\n",
        "class LabMouse(Mouse):\n",
        "    pass\n",
        "\n",
        "mickey = Mouse()\n",
        "print(isinstance(mickey, Mouse), isinstance(mickey, LabMouse))  # Prints \"True False\"."
      ],
      "metadata": {
        "id": "azXSjG6PZjk0"
      },
      "execution_count": null,
      "outputs": []
    },
    {
      "cell_type": "markdown",
      "source": [
        "4. A operator called `is` checks if two variables refer to **the same object**. For example:"
      ],
      "metadata": {
        "id": "quw_yGitZaWG"
      }
    },
    {
      "cell_type": "code",
      "source": [
        "class Mouse:\n",
        "    pass\n",
        "\n",
        "mickey = Mouse()\n",
        "minnie = Mouse()\n",
        "cloned_mickey = mickey\n",
        "print(mickey is minnie, mickey is cloned_mickey)  # Prints \"False True\"."
      ],
      "metadata": {
        "id": "pL7SfrieZUi1"
      },
      "execution_count": null,
      "outputs": []
    },
    {
      "cell_type": "markdown",
      "source": [
        "5. A parameterless function named `super()` returns a **reference to the nearest superclass of the class**. For example:"
      ],
      "metadata": {
        "id": "qRhOnMO7ZKqu"
      }
    },
    {
      "cell_type": "code",
      "source": [
        "class Mouse:\n",
        "    def __str__(self):\n",
        "        return \"Mouse\"\n",
        "\n",
        "class LabMouse(Mouse):\n",
        "    def __str__(self):\n",
        "        return \"Laboratory \" + super().__str__()\n",
        "\n",
        "doctor_mouse = LabMouse();\n",
        "print(doctor_mouse)  # Prints \"Laboratory Mouse\"."
      ],
      "metadata": {
        "id": "giUhqEHiZEzU"
      },
      "execution_count": null,
      "outputs": []
    },
    {
      "cell_type": "markdown",
      "source": [
        "6. Methods as well as instance and class variables defined in a superclass are **automatically inherited** by their subclasses. For example:"
      ],
      "metadata": {
        "id": "isZyo_udZAse"
      }
    },
    {
      "cell_type": "code",
      "source": [
        "class Mouse:\n",
        "    Population = 0\n",
        "    def __init__(self, name):\n",
        "        Mouse.Population += 1\n",
        "        self.name = name\n",
        "\n",
        "    def __str__(self):\n",
        "        return \"Hi, my name is \" + self.name\n",
        "\n",
        "class LabMouse(Mouse):\n",
        "    pass\n",
        "\n",
        "professor_mouse = LabMouse(\"Professor Mouser\")\n",
        "print(professor_mouse, Mouse.Population)  # Prints \"Hi, my name is Professor Mouser 1\""
      ],
      "metadata": {
        "id": "drxpipf8Y3wH"
      },
      "execution_count": null,
      "outputs": []
    },
    {
      "cell_type": "markdown",
      "source": [
        "7. In order to find any object/class property, Python looks for it inside:\n",
        "\n",
        "* the object itself;\n",
        "* all classes involved in the object's inheritance line from bottom to top;\n",
        "* if there is more than one class on a particular inheritance path, Python scans them from left to right;\n",
        "* if both of the above fail, the `AttributeError` exception is raised.\n",
        "\n",
        "8. If any of the subclasses defines a method/class variable/instance variable of the same name as existing in the superclass, the new name **overrides** any of the previous instances of the name. For example:\n"
      ],
      "metadata": {
        "id": "4D6JL8PAYzgn"
      }
    },
    {
      "cell_type": "code",
      "source": [
        "class Mouse:\n",
        "    def __init__(self, name):\n",
        "        self.name = name\n",
        "\n",
        "    def __str__(self):\n",
        "        return \"My name is \" + self.name\n",
        "\n",
        "class AncientMouse(Mouse):\n",
        "    def __str__(self):\n",
        "        return \"Meum nomen est \" + self.name\n",
        "\n",
        "mus = AncientMouse(\"Caesar\")  # Prints \"Meum nomen est Caesar\"\n",
        "print(mus)"
      ],
      "metadata": {
        "id": "fcb7jHMTYm9m"
      },
      "execution_count": null,
      "outputs": []
    },
    {
      "cell_type": "markdown",
      "source": [
        "# 3.6 The Objective Nature of Python Exceptions\n",
        "1. The `else:` branch of the `try` statement is executed when there has been no exception during the execution of the `try:` block.\n",
        "\n",
        "\n",
        "2. The `finally:` branch of the `try` statement is **always** executed.\n",
        "\n",
        "\n",
        "3. The syntax `except Exception_Name as an exception_object:` lets you intercept an object carrying information about a pending exception. The object's property named `args` (a tuple) stores all arguments passed to the object's constructor.\n",
        "\n",
        "\n",
        "4. The exception classes can be extended to enrich them with new capabilities, or to adopt their traits to newly defined exceptions.\n",
        "\n",
        "For example:\n",
        "\n",
        "\n",
        "\n"
      ],
      "metadata": {
        "id": "OW2COpShaMlP"
      }
    },
    {
      "cell_type": "code",
      "source": [
        "try:\n",
        "    assert __name__ == \"__main__\"\n",
        "except:\n",
        "    print(\"fail\", end=' ')\n",
        "else:\n",
        "    print(\"success\", end=' ')\n",
        "finally:\n",
        "    print(\"done\")"
      ],
      "metadata": {
        "id": "2sE24Xm3aeXL"
      },
      "execution_count": null,
      "outputs": []
    },
    {
      "cell_type": "markdown",
      "source": [
        "The code outputs: `success done`."
      ],
      "metadata": {
        "id": "LOBaOQhYabg4"
      }
    },
    {
      "cell_type": "markdown",
      "source": [
        "# 4.1 Generators, Iterators, And Closures\n",
        "1. An **iterator** is an object of a class providing at least **two** methods (not counting the constructor):\n",
        "\n",
        "* `__iter__()` is invoked once when the iterator is created and returns the iterator's object **itself**;\n",
        "* `__next__()` is invoked to provide the **next iteration's value** and raises the `StopIteration` exception when the iteration **comes to an end**.\n",
        "\n",
        "2. The `yield`statement can be used only inside functions. The `yield` statement suspends function execution and causes the function to return the yield's argument as a result. Such a function cannot be invoked in a regular way – its only purpose is to be used as a **generator** (i.e. in a context that requires a series of values, like a `for` loop.)\n",
        "\n",
        "\n",
        "3. A **conditional expression** is an expression built using the `if-else` operator. For example:"
      ],
      "metadata": {
        "id": "c2cgJQ0gbLID"
      }
    },
    {
      "cell_type": "code",
      "source": [
        "print(True if 0 >= 0 else False)\n",
        "\n",
        "#outputs True."
      ],
      "metadata": {
        "colab": {
          "base_uri": "https://localhost:8080/"
        },
        "id": "rs85KV_qeX3T",
        "outputId": "1400ff0a-e768-4db1-ec9f-ad70213f47f5"
      },
      "execution_count": null,
      "outputs": [
        {
          "output_type": "stream",
          "name": "stdout",
          "text": [
            "True\n"
          ]
        }
      ]
    },
    {
      "cell_type": "markdown",
      "source": [
        "4. A **list comprehension** becomes a **generator** when used inside **parentheses** (used inside brackets, it produces a regular list). For example:"
      ],
      "metadata": {
        "id": "hMGWR93eeDnJ"
      }
    },
    {
      "cell_type": "code",
      "source": [
        "for x in (el * 2 for el in range(5)):\n",
        "    print(x)\n",
        "\n",
        "#outputs 02468."
      ],
      "metadata": {
        "colab": {
          "base_uri": "https://localhost:8080/"
        },
        "id": "MKr7TSPpd_Qg",
        "outputId": "e272af15-56f6-4d1b-f59a-e72108c8d602"
      },
      "execution_count": null,
      "outputs": [
        {
          "output_type": "stream",
          "name": "stdout",
          "text": [
            "0\n",
            "2\n",
            "4\n",
            "6\n",
            "8\n"
          ]
        }
      ]
    },
    {
      "cell_type": "markdown",
      "source": [
        "5. A **lambda function** is a tool for creating **anonymous functions**. For example:"
      ],
      "metadata": {
        "id": "YZgADEeDd5BE"
      }
    },
    {
      "cell_type": "code",
      "source": [
        "def foo(x, f):\n",
        "    return f(x)\n",
        "\n",
        "print(foo(9, lambda x: x ** 0.5))\n",
        "\n",
        "#outputs 3.0."
      ],
      "metadata": {
        "id": "bD1q2n7Pdz_g"
      },
      "execution_count": null,
      "outputs": []
    },
    {
      "cell_type": "markdown",
      "source": [
        "6. The `map(fun, list)` function creates a **copy** of a `list` argument, and applies the `fun` function to all of its elements, returning a **generator** that provides the new list content element by element. For example:"
      ],
      "metadata": {
        "id": "bqdleAwjdnyL"
      }
    },
    {
      "cell_type": "code",
      "source": [
        "short_list = ['mython', 'python', 'fell', 'on', 'the', 'floor']\n",
        "new_list = list(map(lambda s: s.title(), short_list))\n",
        "print(new_list)\n",
        "\n",
        "#outputs ['Mython', 'Python', 'Fell', 'On', 'The', 'Floor']."
      ],
      "metadata": {
        "colab": {
          "base_uri": "https://localhost:8080/"
        },
        "id": "Rde5hQtcdiav",
        "outputId": "50b95a8b-5590-4d25-ea9d-b2a38393d0f3"
      },
      "execution_count": null,
      "outputs": [
        {
          "output_type": "stream",
          "name": "stdout",
          "text": [
            "['Mython', 'Python', 'Fell', 'On', 'The', 'Floor']\n"
          ]
        }
      ]
    },
    {
      "cell_type": "markdown",
      "source": [
        "7. The `filter(fun, list)` function creates a **copy** of those `list` elements, which cause the `fun` function to return `True`. The function's result is a **generator** providing the new list content element by element. For example:"
      ],
      "metadata": {
        "id": "BcNuEfOFdTB0"
      }
    },
    {
      "cell_type": "code",
      "source": [
        "short_list = [1, \"Python\", -1, \"Monty\"]\n",
        "new_list = list(filter(lambda s: isinstance(s, str), short_list))\n",
        "print(new_list)\n",
        "\n",
        "#outputs ['Python', 'Monty']."
      ],
      "metadata": {
        "colab": {
          "base_uri": "https://localhost:8080/"
        },
        "id": "mNfAMyEcdOGN",
        "outputId": "10814c1e-465c-4fd1-97d4-8955cd2ff896"
      },
      "execution_count": null,
      "outputs": [
        {
          "output_type": "stream",
          "name": "stdout",
          "text": [
            "['Python', 'Monty']\n"
          ]
        }
      ]
    },
    {
      "cell_type": "markdown",
      "source": [
        "8. A closure is a technique which allows the **storing of values** in spite of the fact that the **context** in which they have been created **does not exist anymore**. For example:"
      ],
      "metadata": {
        "id": "mbrunVbhdGA_"
      }
    },
    {
      "cell_type": "code",
      "source": [
        "def tag(tg):\n",
        "    tg2 = tg\n",
        "    tg2 = tg[0] + '/' + tg[1:]\n",
        "\n",
        "    def inner(str):\n",
        "        return tg + str + tg2\n",
        "    return inner\n",
        "\n",
        "\n",
        "b_tag = tag('<b>')\n",
        "print(b_tag('Monty Python'))"
      ],
      "metadata": {
        "id": "Qnt11i1AdDs1"
      },
      "execution_count": null,
      "outputs": []
    },
    {
      "cell_type": "markdown",
      "source": [
        "[PEP 8](https://www.python.org/dev/peps/pep-0008/#programming-recommendations), the Style Guide for Python Code, recommends that **lambdas should not be assigned to variables, but rather they should be defined as functions.**\n",
        "\n",
        "This means that it is better to use a `def` statement, and avoid using an assignment statement that binds a lambda expression to an identifer. Analyze the code below:"
      ],
      "metadata": {
        "id": "GBu4oVu0cjTt"
      }
    },
    {
      "cell_type": "code",
      "source": [
        "# Recommended:\n",
        "def f(x): return 3*x\n",
        "\n",
        "# Not recommended:\n",
        "f = lambda x: 3*x"
      ],
      "metadata": {
        "id": "BFb5RFm8czwT"
      },
      "execution_count": null,
      "outputs": []
    },
    {
      "cell_type": "markdown",
      "source": [
        "Binding lambdas to identifiers generally duplicates the functionality of the `def` statement. Using `def` statements, on the other hand, generates more lines of code.\n",
        "\n",
        "It is important to understand that reality often likes to draw its own scenarios, which do not necessarily follow the conventions or formal recommendations. Whether you decide to follow them or not will depend on many things: your preferences, other conventions adopted, company internal guidelines, compatibility with existing code, etc. Be aware of this."
      ],
      "metadata": {
        "id": "JjKiTwG6cyGS"
      }
    },
    {
      "cell_type": "markdown",
      "source": [
        "# 4.2 Files (Fiile Streams, File Processing, Diagnosing Stream Problems)\n",
        "1. A file needs to be **open** before it can be processed by a program, and it should be **closed** when the processing is finished.\n",
        "\n",
        "Opening the file associates it with the **stream**, which is an abstract representation of the physical data stored on the media. The way in which the stream is processed is called **open mode**. **Three** open modes exist:\n",
        "\n",
        "* read mode – only read operations are allowed;\n",
        "* write mode – only write operations are allowed;\n",
        "* update mode – both writes and reads are allowed.\n",
        "\n",
        "2. Depending on the physical file content, different Python classes can be used to process files. In general, the `BufferedIOBase` is able to process any file, while `TextIOBase` is a specialized class dedicated to processing text files (i.e. files containing human-visible texts divided into lines using new-line markers). Thus, the streams can be divided into **binary** and **text** ones.\n",
        "\n",
        "\n",
        "3. The following `open()` function syntax is used to open a file:\n",
        "\n",
        "`open(file_name, mode=open_mode, encoding=text_encoding)`\n",
        "\n",
        "The invocation creates a stream object and associates it with the file named `file_name`, using the specified `open_mode` and setting the specified `text_encoding`, or it **raises an exception in the case of an error**.\n",
        "\n",
        "\n",
        "4. Three **predefined** streams are already open when the program starts:\n",
        "\n",
        "* `sys.stdin` – standard input;\n",
        "* `sys.stdout` – standard output;\n",
        "* `sys.stderr` – standard error output.\n",
        "\n",
        "5. The `IOError` exception object, created when any file operations fails (including open operations), contains a property named `errno`, which contains the completion code of the failed action. Use this value to diagnose the problem."
      ],
      "metadata": {
        "id": "BNNM7wN9fEX1"
      }
    },
    {
      "cell_type": "markdown",
      "source": [
        "#4.3 Processing Text And Binary Files\n",
        "1. To read a file’s contents, the following stream methods can be used:\n",
        "\n",
        "* `read(number)` – reads the `number` characters/bytes from the file and returns them as a string; is able to read the whole file at once;\n",
        "* `readline()` – reads a single line from the text file;\n",
        "* `readlines(number)` – reads the `number` lines from the text file; is able to read all lines at once;\n",
        "* `readinto(bytearray)` – reads the bytes from the file and fills the `bytearray` with them;\n",
        "\n",
        "2. To write new content into a file, the following stream methods can be used:\n",
        "\n",
        "* `write(string)` – writes a `string` to a text file;\n",
        "* `write(bytearray)` – writes all the bytes of `bytearray` to a file;\n",
        "\n",
        "3. The `open()` method returns an iterable object which can be used to iterate through all the file's lines inside a `for` loop. For example:"
      ],
      "metadata": {
        "id": "vVMKJGTBi3-t"
      }
    },
    {
      "cell_type": "code",
      "source": [
        "for line in open(\"file\", \"rt\"):\n",
        "    print(line, end='')"
      ],
      "metadata": {
        "id": "QdA13LKljGas"
      },
      "execution_count": null,
      "outputs": []
    },
    {
      "cell_type": "markdown",
      "source": [
        "The code copies the file's contents to the console, line by line. Note: the stream closes itself **automatically** when it reaches the end of the file."
      ],
      "metadata": {
        "id": "To_CMWVejCDp"
      }
    },
    {
      "cell_type": "markdown",
      "source": [
        "#4.4 The OS Modules- Interacting With The Operating System\n",
        "1. The `uname` function returns an object that contains information about the current operating system. The object has the following attributes:\n",
        "\n",
        "* *systemname* (stores the name of the operating system)\n",
        "* *nodename* (stores the machine name on the network)\n",
        "* *release* (stores the operating system release)\n",
        "* *version* (stores the operating system version)\n",
        "* *machine* (stores the hardware identifier, e.g. x86_64.)\n",
        "2. The name attribute available in the `os` module allows you to distinguish the operating system. It returns one of the following three values:\n",
        "\n",
        "* *posix* (you'll get this name if you use Unix)\n",
        "* *nt* (you'll get this name if you use Windows)\n",
        "* *java* (you'll get this name if your code is written in something like Jython)\n",
        "3. The mkdir function creates a directory in the path passed as its argument. The path can be either relative or absolute, e.g:\n"
      ],
      "metadata": {
        "id": "Axw4-BN_juRW"
      }
    },
    {
      "cell_type": "code",
      "source": [
        "import os\n",
        "\n",
        "os.mkdir(\"hello\") # the relative path\n",
        "os.mkdir(\"/home/python/hello\") # the absolute path"
      ],
      "metadata": {
        "id": "pjvvX9kHkXwQ"
      },
      "execution_count": null,
      "outputs": []
    },
    {
      "cell_type": "markdown",
      "source": [
        "**Note**: If the directory exists, a FileExistsError exception will be thrown. In addition to the `mkdir` function, the `os` module provides the `makedirs` function, which allows you to recursively create all directories in a path.\n",
        "\n",
        "4. The result of the `listdir()` function is a list containing the names of the files and directories that are in the path passed as its argument.\n",
        "\n",
        "It's important to remember that the `listdir` function omits the entries '.' and '..', which are displayed, for example, when using the `ls -a` command on Unix systems. If the path isn't passed, the result will be returned for the current working directory.\n",
        "\n",
        "5. To move between directories, you can use a function called `chdir()`, which changes the current working directory to the specified path. As its argument, it takes any relative or absolute path.\n",
        "\n",
        "If you want to find out what the current working directory is, you can use the `getcwd()` function, which returns the path to it.\n",
        "\n",
        "6. To remove a directory, you can use the `rmdir()` function, but to remove a directory and its subdirectories, use the `removedirs()` function.\n",
        "\n",
        "7. On both Unix and Windows, you can use the system function, which executes a command passed to it as a string, e.g.:"
      ],
      "metadata": {
        "id": "UHm8EbgikV_j"
      }
    },
    {
      "cell_type": "code",
      "source": [
        "import os\n",
        "\n",
        "returned_value = os.system(\"mkdir hello\")"
      ],
      "metadata": {
        "id": "9yA1Pw2akB_k"
      },
      "execution_count": null,
      "outputs": []
    },
    {
      "cell_type": "markdown",
      "source": [
        "The system function on Windows returns the value returned by shell after running the command given, while on Unix it returns the exit status of the process."
      ],
      "metadata": {
        "id": "HJN2Hv9kj_ys"
      }
    },
    {
      "cell_type": "markdown",
      "source": [
        "# 4.5 The Datetime And Time Modules - Working With Date And Time-Related Functions\n",
        "\n",
        "1. To create a `date` object, you must pass the year, month, and day arguments as follows:"
      ],
      "metadata": {
        "id": "EkEcrn_-mG1l"
      }
    },
    {
      "cell_type": "code",
      "source": [
        "from datetime import date\n",
        "\n",
        "my_date = date(2020, 9, 29)\n",
        "print(\"Year:\", my_date.year) # Year: 2020\n",
        "print(\"Month:\", my_date.month) # Month: 9\n",
        "print(\"Day:\", my_date.day) # Day: 29"
      ],
      "metadata": {
        "colab": {
          "base_uri": "https://localhost:8080/"
        },
        "id": "AEQ8ofFWoXIh",
        "outputId": "8d3022e6-6889-4057-85f5-130820030e26"
      },
      "execution_count": null,
      "outputs": [
        {
          "output_type": "stream",
          "name": "stdout",
          "text": [
            "Year: 2020\n",
            "Month: 9\n",
            "Day: 29\n"
          ]
        }
      ]
    },
    {
      "cell_type": "markdown",
      "source": [
        "The `date` object has three (read-only) attributes: year, month, and day.\n",
        "\n",
        "2. The `today` method returns a date object representing the current local date:"
      ],
      "metadata": {
        "id": "TXC-__tJoOfI"
      }
    },
    {
      "cell_type": "code",
      "source": [
        "from datetime import date\n",
        "print(\"Today:\", date.today()) # Displays: Today: 2020-09-29"
      ],
      "metadata": {
        "colab": {
          "base_uri": "https://localhost:8080/"
        },
        "id": "Y5IRwIj-oKjP",
        "outputId": "a453311c-8526-4a73-c2dc-762491775e4a"
      },
      "execution_count": null,
      "outputs": [
        {
          "output_type": "stream",
          "name": "stdout",
          "text": [
            "Today: 2024-01-19\n"
          ]
        }
      ]
    },
    {
      "cell_type": "markdown",
      "source": [
        "3. In Unix, the timestamp expresses the number of seconds since January 1, 1970, 00:00:00 (UTC). This date is called the \"Unix epoch\", because it began the counting of time on Unix systems. The timestamp is actually the difference between a particular date (including time) and January 1, 1970, 00:00:00 (UTC), expressed in seconds. To create a date object from a timestamp, we must pass a Unix timestamp to the `fromtimestamp` method:"
      ],
      "metadata": {
        "id": "BioDZxoDoG7P"
      }
    },
    {
      "cell_type": "code",
      "source": [
        "from datetime import date\n",
        "import time\n",
        "\n",
        "timestamp = time.time()\n",
        "d = date.fromtimestamp(timestamp)"
      ],
      "metadata": {
        "id": "KJoSUThUoEP3"
      },
      "execution_count": null,
      "outputs": []
    },
    {
      "cell_type": "markdown",
      "source": [
        "Note: The `time` function returns the number of seconds from January 1, 1970 to the current moment in the form of a float number.\n",
        "\n",
        "4. The constructor of the `time` class accepts six arguments (hour, minute, second, microsecond, tzinfo, and fold). Each of these arguments is optional."
      ],
      "metadata": {
        "id": "qADoL_bUn6_5"
      }
    },
    {
      "cell_type": "code",
      "source": [
        "from datetime import time\n",
        "\n",
        "t = time(13, 22, 20)\n",
        "\n",
        "print(\"Hour:\", t.hour) # Hour: 13\n",
        "print(\"Minute:\", t.minute) # Minute: 22\n",
        "print(\"Second:\", t.second) # Second: 20"
      ],
      "metadata": {
        "colab": {
          "base_uri": "https://localhost:8080/"
        },
        "id": "T9CYhsXQn3sg",
        "outputId": "7e8c752f-605e-4ebd-9b89-bd7e4c2aa390"
      },
      "execution_count": null,
      "outputs": [
        {
          "output_type": "stream",
          "name": "stdout",
          "text": [
            "Hour: 13\n",
            "Minute: 22\n",
            "Second: 20\n"
          ]
        }
      ]
    },
    {
      "cell_type": "markdown",
      "source": [
        "5. The `time` module contains the `sleep` function, which suspends program execution for a given number of seconds, e.g.:"
      ],
      "metadata": {
        "id": "GOsANCHUnwnN"
      }
    },
    {
      "cell_type": "code",
      "source": [
        "import time\n",
        "\n",
        "time.sleep(10)\n",
        "print(\"Hello world!\") # This text will be displayed after 10 seconds."
      ],
      "metadata": {
        "colab": {
          "base_uri": "https://localhost:8080/"
        },
        "id": "-nq-m5h7nuRP",
        "outputId": "d4bb941a-21d7-48b7-885f-e34967b5204c"
      },
      "execution_count": null,
      "outputs": [
        {
          "output_type": "stream",
          "name": "stdout",
          "text": [
            "Hello world!\n"
          ]
        }
      ]
    },
    {
      "cell_type": "markdown",
      "source": [
        "6. In the `datetime` module, date and time can be represented either as separate objects, or as one object. The class that combines date and time is called datetime. All arguments passed to the constructor go to read-only class attributes. They are year, month, day, hour, minute, second, microsecond, tzinfo, and fold:"
      ],
      "metadata": {
        "id": "GlwE18Svnl15"
      }
    },
    {
      "cell_type": "code",
      "source": [
        "from datetime import datetime\n",
        "\n",
        "dt = datetime(2020, 9, 29, 13, 51)\n",
        "print(\"Datetime:\", dt) # Displays: Datetime: 2020-09-29 13:51:00"
      ],
      "metadata": {
        "colab": {
          "base_uri": "https://localhost:8080/"
        },
        "id": "uqteyAd9nhrY",
        "outputId": "db34a966-6671-4d6e-821b-136d2a3213e9"
      },
      "execution_count": null,
      "outputs": [
        {
          "output_type": "stream",
          "name": "stdout",
          "text": [
            "Datetime: 2020-09-29 13:51:00\n"
          ]
        }
      ]
    },
    {
      "cell_type": "markdown",
      "source": [
        "7. The `strftime` method takes only one argument in the form of a string specifying a format that can consist of directives. A directive is a string consisting of the character `%` (percent) and a lower-case or upper-case letter. Below are some useful directives:\n",
        "\n",
        "* `%Y` – returns the year with the century as a decimal number;\n",
        "* `%m` – returns the month as a zero-padded decimal number;\n",
        "* `%d` – returns the day as a zero-padded decimal number;\n",
        "* `%H` – returns the hour as a zero-padded decimal number;\n",
        "* `%M` – returns the minute as a zero-padded decimal number;\n",
        "* `%S` – returns the second as a zero-padded decimal number.\n",
        "\n",
        "Example:"
      ],
      "metadata": {
        "id": "w8kx70y4nekc"
      }
    },
    {
      "cell_type": "code",
      "source": [
        "from datetime import date\n",
        "\n",
        "d = date(2020, 9, 29)\n",
        "print(d.strftime('%Y/%m/%d')) # Displays: 2020/09/29"
      ],
      "metadata": {
        "colab": {
          "base_uri": "https://localhost:8080/"
        },
        "id": "KtFZuAHanEj4",
        "outputId": "c4d2b0a3-c633-4142-9c5a-ff18818adafa"
      },
      "execution_count": null,
      "outputs": [
        {
          "output_type": "stream",
          "name": "stdout",
          "text": [
            "2020/09/29\n"
          ]
        }
      ]
    },
    {
      "cell_type": "markdown",
      "source": [
        "8. It's possible to perform calculations on `date` and `datetime` objects, e.g.:"
      ],
      "metadata": {
        "id": "E8KKe0TVmymJ"
      }
    },
    {
      "cell_type": "code",
      "source": [
        "from datetime import date\n",
        "\n",
        "d1 = date(2020, 11, 4)\n",
        "d2 = date(2019, 11, 4)\n",
        "\n",
        "d = d1 - d2\n",
        "print(d) # Displays: 366 days, 0:00:00.\n",
        "print(d * 2) # Displays: 732 days, 0:00:00."
      ],
      "metadata": {
        "colab": {
          "base_uri": "https://localhost:8080/"
        },
        "id": "bL2HeM_zmwM-",
        "outputId": "15634edf-ad1b-428e-b787-d6842fcfd6bd"
      },
      "execution_count": null,
      "outputs": [
        {
          "output_type": "stream",
          "name": "stdout",
          "text": [
            "366 days, 0:00:00\n",
            "732 days, 0:00:00\n"
          ]
        }
      ]
    },
    {
      "cell_type": "markdown",
      "source": [
        "The result of the subtraction is returned as a `timedelta` object that expresses the difference in days between the two dates in the example above.\n",
        "\n",
        "Note that the difference in hours, minutes, and seconds is also displayed. The `timedelta` object can be used for further calculations (e.g. you can multiply it by 2)."
      ],
      "metadata": {
        "id": "c1FreqdYmtbS"
      }
    },
    {
      "cell_type": "markdown",
      "source": [
        "# 4.6 The Calendar Module - Working With Calendar-Related Functions\n",
        "1. In the `calendar` module, the days of the week are displayed from Monday to Sunday. Each day of the week has its representation in the form of an integer, where the first day of the week (Monday) is represented by the value 0, while the last day of the week (Sunday) is represented by the value 6.\n",
        "\n",
        "\n",
        "2. To display a calendar for any year, call the `calendar` function with the year passed as its argument, e.g.:"
      ],
      "metadata": {
        "id": "MdJ1s7ZTouRo"
      }
    },
    {
      "cell_type": "code",
      "source": [
        "import calendar\n",
        "print(calendar.calendar(2020))"
      ],
      "metadata": {
        "colab": {
          "base_uri": "https://localhost:8080/"
        },
        "id": "Q8Y9M96rqJLI",
        "outputId": "d7427471-5dbf-448a-c820-70c3a754d848"
      },
      "execution_count": null,
      "outputs": [
        {
          "output_type": "stream",
          "name": "stdout",
          "text": [
            "                                  2020\n",
            "\n",
            "      January                   February                   March\n",
            "Mo Tu We Th Fr Sa Su      Mo Tu We Th Fr Sa Su      Mo Tu We Th Fr Sa Su\n",
            "       1  2  3  4  5                      1  2                         1\n",
            " 6  7  8  9 10 11 12       3  4  5  6  7  8  9       2  3  4  5  6  7  8\n",
            "13 14 15 16 17 18 19      10 11 12 13 14 15 16       9 10 11 12 13 14 15\n",
            "20 21 22 23 24 25 26      17 18 19 20 21 22 23      16 17 18 19 20 21 22\n",
            "27 28 29 30 31            24 25 26 27 28 29         23 24 25 26 27 28 29\n",
            "                                                    30 31\n",
            "\n",
            "       April                      May                       June\n",
            "Mo Tu We Th Fr Sa Su      Mo Tu We Th Fr Sa Su      Mo Tu We Th Fr Sa Su\n",
            "       1  2  3  4  5                   1  2  3       1  2  3  4  5  6  7\n",
            " 6  7  8  9 10 11 12       4  5  6  7  8  9 10       8  9 10 11 12 13 14\n",
            "13 14 15 16 17 18 19      11 12 13 14 15 16 17      15 16 17 18 19 20 21\n",
            "20 21 22 23 24 25 26      18 19 20 21 22 23 24      22 23 24 25 26 27 28\n",
            "27 28 29 30               25 26 27 28 29 30 31      29 30\n",
            "\n",
            "        July                     August                  September\n",
            "Mo Tu We Th Fr Sa Su      Mo Tu We Th Fr Sa Su      Mo Tu We Th Fr Sa Su\n",
            "       1  2  3  4  5                      1  2          1  2  3  4  5  6\n",
            " 6  7  8  9 10 11 12       3  4  5  6  7  8  9       7  8  9 10 11 12 13\n",
            "13 14 15 16 17 18 19      10 11 12 13 14 15 16      14 15 16 17 18 19 20\n",
            "20 21 22 23 24 25 26      17 18 19 20 21 22 23      21 22 23 24 25 26 27\n",
            "27 28 29 30 31            24 25 26 27 28 29 30      28 29 30\n",
            "                          31\n",
            "\n",
            "      October                   November                  December\n",
            "Mo Tu We Th Fr Sa Su      Mo Tu We Th Fr Sa Su      Mo Tu We Th Fr Sa Su\n",
            "          1  2  3  4                         1          1  2  3  4  5  6\n",
            " 5  6  7  8  9 10 11       2  3  4  5  6  7  8       7  8  9 10 11 12 13\n",
            "12 13 14 15 16 17 18       9 10 11 12 13 14 15      14 15 16 17 18 19 20\n",
            "19 20 21 22 23 24 25      16 17 18 19 20 21 22      21 22 23 24 25 26 27\n",
            "26 27 28 29 30 31         23 24 25 26 27 28 29      28 29 30 31\n",
            "                          30\n",
            "\n"
          ]
        }
      ]
    },
    {
      "cell_type": "markdown",
      "source": [
        "Note: A good alternative to the above function is the function called `prcal`, which also takes the same parameters as the `calendar` function, but doesn't require the use of the `print` function to display the calendar.\n",
        "\n",
        "\n",
        "3. To display a calendar for any month of the year, call the `month` function, passing year and month to it. For example:"
      ],
      "metadata": {
        "id": "TV1DntDpp9Vm"
      }
    },
    {
      "cell_type": "code",
      "source": [
        "import calendar\n",
        "print(calendar.month(2020, 9))"
      ],
      "metadata": {
        "colab": {
          "base_uri": "https://localhost:8080/"
        },
        "id": "aAS0rGFTp6Vb",
        "outputId": "23fb7e32-0aa2-454d-dad7-4098373e7d9c"
      },
      "execution_count": null,
      "outputs": [
        {
          "output_type": "stream",
          "name": "stdout",
          "text": [
            "   September 2020\n",
            "Mo Tu We Th Fr Sa Su\n",
            "    1  2  3  4  5  6\n",
            " 7  8  9 10 11 12 13\n",
            "14 15 16 17 18 19 20\n",
            "21 22 23 24 25 26 27\n",
            "28 29 30\n",
            "\n"
          ]
        }
      ]
    },
    {
      "cell_type": "markdown",
      "source": [
        "Note: You can also use the `prmonth` function, which has the same parameters as the `month` function, but doesn't require the use of the `print` function to display the calendar.\n",
        "\n",
        "\n",
        "4. The `setfirstweekday` function allows you to change the first day of the week. It takes a value from 0 to 6, where 0 is Sunday and 6 is Saturday.\n",
        "\n",
        "\n",
        "5. The result of the `weekday` function is a day of the week as an integer value for a given year, month, and day:"
      ],
      "metadata": {
        "id": "bA-MRiW2ptMT"
      }
    },
    {
      "cell_type": "code",
      "source": [
        "import calendar\n",
        "print(calendar.weekday(2020, 9, 29)) # This displays 1, which means Tuesday."
      ],
      "metadata": {
        "colab": {
          "base_uri": "https://localhost:8080/"
        },
        "id": "peXZ9eanpqy1",
        "outputId": "f82c0b49-d13d-42e6-f130-6860b7208e09"
      },
      "execution_count": null,
      "outputs": [
        {
          "output_type": "stream",
          "name": "stdout",
          "text": [
            "1\n"
          ]
        }
      ]
    },
    {
      "cell_type": "markdown",
      "source": [
        "6. The `weekheader` function returns the weekday names in a shortened form. The `weekheader` method requires you to specify the width in characters for one day of the week. If the width you provide is greater than 3, you'll still get the abbreviated weekday names consisting of only three characters. For example:"
      ],
      "metadata": {
        "id": "uRkSQyBjpiPf"
      }
    },
    {
      "cell_type": "code",
      "source": [
        "import calendar\n",
        "print(calendar.weekheader(2)) # This display: Mo Tu We Th Fr Sa Su"
      ],
      "metadata": {
        "colab": {
          "base_uri": "https://localhost:8080/"
        },
        "id": "DOwB3XJcpgVy",
        "outputId": "894253a5-df11-4446-c085-5b2d9a059621"
      },
      "execution_count": null,
      "outputs": [
        {
          "output_type": "stream",
          "name": "stdout",
          "text": [
            "Mo Tu We Th Fr Sa Su\n"
          ]
        }
      ]
    },
    {
      "cell_type": "markdown",
      "source": [
        "7. A very useful function available in the `calendar` module is the function called `isleap`, which, as the name suggests, allows you to check whether the year is a leap year or not:"
      ],
      "metadata": {
        "id": "fzRInFMrpbMe"
      }
    },
    {
      "cell_type": "code",
      "source": [
        "import calendar\n",
        "print(calendar.isleap(2020)) # This displays: True"
      ],
      "metadata": {
        "colab": {
          "base_uri": "https://localhost:8080/"
        },
        "id": "CP_vjyX-pYTk",
        "outputId": "2c004aba-ca96-4172-d516-d64f65151fca"
      },
      "execution_count": null,
      "outputs": [
        {
          "output_type": "stream",
          "name": "stdout",
          "text": [
            "True\n"
          ]
        }
      ]
    },
    {
      "cell_type": "markdown",
      "source": [
        "8. You can create a `calendar` object yourself using the `Calendar` class, which, when creating its object, allows you to change the first day of the week with the optional `firstweekday` parameter, e.g.:"
      ],
      "metadata": {
        "id": "QneougY8pWKF"
      }
    },
    {
      "cell_type": "code",
      "source": [
        "import calendar\n",
        "\n",
        "c = calendar.Calendar(2)\n",
        "\n",
        "for weekday in c.iterweekdays():\n",
        "    print(weekday, end=\" \")\n",
        "# Result: 2 3 4 5 6 0 1"
      ],
      "metadata": {
        "colab": {
          "base_uri": "https://localhost:8080/"
        },
        "id": "VxsUYiNOpNpS",
        "outputId": "98ff6e62-f591-41ce-ddee-dfd8d0b1afb1"
      },
      "execution_count": null,
      "outputs": [
        {
          "output_type": "stream",
          "name": "stdout",
          "text": [
            "2 3 4 5 6 0 1 "
          ]
        }
      ]
    },
    {
      "cell_type": "markdown",
      "source": [
        "The `iterweekdays` returns an iterator for weekday numbers. The first value returned is always equal to the value of the `firstweekday` property."
      ],
      "metadata": {
        "id": "xHh8_5YZpIDx"
      }
    },
    {
      "cell_type": "code",
      "source": [],
      "metadata": {
        "id": "wiMeqhUoUWe1"
      },
      "execution_count": null,
      "outputs": []
    },
    {
      "cell_type": "code",
      "source": [],
      "metadata": {
        "id": "tUaeUCzHPiq5"
      },
      "execution_count": null,
      "outputs": []
    }
  ]
}